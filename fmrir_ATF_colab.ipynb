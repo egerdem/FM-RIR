{
 "nbformat": 4,
 "nbformat_minor": 0,
 "metadata": {
  "colab": {
   "provenance": [],
   "gpuType": "T4"
  },
  "kernelspec": {
   "name": "python3",
   "display_name": "Python 3"
  },
  "language_info": {
   "name": "python"
  },
  "accelerator": "GPU"
 },
 "cells": [
  {
   "cell_type": "code",
   "source": [
    "  from google.colab import drive\n",
    "  drive.mount('/content/drive')"
   ],
   "metadata": {
    "colab": {
     "base_uri": "https://localhost:8080/"
    },
    "id": "455DrTfig4Vt",
    "outputId": "3598e55d-db18-434c-fd13-fc7582dc10e0"
   },
   "execution_count": 1,
   "outputs": [
    {
     "output_type": "stream",
     "name": "stdout",
     "text": [
      "Mounted at /content/drive\n"
     ]
    }
   ]
  },
  {
   "cell_type": "code",
   "source": [
    "!pip install wandb -qU\n",
    "\n",
    "# Log in to your W&B account\n",
    "import wandb\n",
    "import random\n",
    "import math\n",
    "\n",
    "wandb.login(key=\"ec2cf1718868be26a8055412b556d952681ee0b6\")\n"
   ],
   "metadata": {
    "id": "diR6u8fHq2Px",
    "colab": {
     "base_uri": "https://localhost:8080/"
    },
    "outputId": "07583d30-898c-4f99-8c57-ac9b3c852f41"
   },
   "execution_count": 2,
   "outputs": [
    {
     "output_type": "stream",
     "name": "stderr",
     "text": [
      "\u001B[34m\u001B[1mwandb\u001B[0m: \u001B[33mWARNING\u001B[0m If you're specifying your api key in code, ensure this code is not shared publicly.\n",
      "\u001B[34m\u001B[1mwandb\u001B[0m: \u001B[33mWARNING\u001B[0m Consider setting the WANDB_API_KEY environment variable, or running `wandb login` from the command line.\n",
      "\u001B[34m\u001B[1mwandb\u001B[0m: No netrc file found, creating one.\n",
      "\u001B[34m\u001B[1mwandb\u001B[0m: Appending key for api.wandb.ai to your netrc file: /root/.netrc\n",
      "\u001B[34m\u001B[1mwandb\u001B[0m: Currently logged in as: \u001B[33mege-erdem3\u001B[0m (\u001B[33mege-erdem-king-s-college-london\u001B[0m) to \u001B[32mhttps://api.wandb.ai\u001B[0m. Use \u001B[1m`wandb login --relogin`\u001B[0m to force relogin\n"
     ]
    },
    {
     "output_type": "execute_result",
     "data": {
      "text/plain": [
       "True"
      ]
     },
     "metadata": {},
     "execution_count": 2
    }
   ]
  },
  {
   "cell_type": "code",
   "source": [
    "!git clone https://github.com/egerdem/FMRIR.git"
   ],
   "metadata": {
    "colab": {
     "base_uri": "https://localhost:8080/"
    },
    "id": "p3_pN3qv_8UH",
    "outputId": "da082c6f-6f76-4bd7-b590-4782e5dc43d5"
   },
   "execution_count": 4,
   "outputs": [
    {
     "output_type": "stream",
     "name": "stdout",
     "text": [
      "Cloning into 'FMRIR'...\n",
      "remote: Enumerating objects: 89, done.\u001B[K\n",
      "remote: Counting objects: 100% (89/89), done.\u001B[K\n",
      "remote: Compressing objects: 100% (57/57), done.\u001B[K\n",
      "remote: Total 89 (delta 48), reused 69 (delta 28), pack-reused 0 (from 0)\u001B[K\n",
      "Receiving objects: 100% (89/89), 17.61 MiB | 1.47 MiB/s, done.\n",
      "Resolving deltas: 100% (48/48), done.\n"
     ]
    }
   ]
  },
  {
   "cell_type": "code",
   "execution_count": null,
   "outputs": [],
   "source": [],
   "metadata": {
    "id": "gG2jK2WxGeDk"
   }
  },
  {
   "cell_type": "code",
   "source": [
    "# List contents of your Drive\n",
    "#import os\n",
    "#os.listdir('/content/drive/My Drive/')\n",
    "\n",
    "# Load a file from your Drive\n",
    "#with open('/content/drive/My Drive/FMRIR/fm_utils.py', 'r') as f:\n",
    "    #content = f.read()\n",
    "\n",
    "# Save a file to your Drive\n",
    "#with open('/content/drive/My Drive/new_file.txt', 'w') as f:\n",
    "    #f.write('This is a new file saved from Colab.')\n",
    "\n",
    "import sys\n",
    "sys.path.append('/content/drive/MyDrive/FMRIR')\n",
    "sys.path.append('/content/drive/MyDrive')\n",
    "sys.path.append('/FMRIR')\n",
    "\n",
    "import torch\n",
    "from torchvision import transforms\n",
    "import os\n",
    "import json\n",
    "import time\n",
    "import argparse\n",
    "\n",
    "\n",
    "from FMRIR.fm_utils import (ATFSliceSampler, GaussianConditionalProbabilityPath, LinearAlpha,\n",
    "                      LinearBeta, ATFInpaintingTrainer, ATFUNet)"
   ],
   "metadata": {
    "id": "EKF8Bb-U_80b"
   },
   "execution_count": 15,
   "outputs": []
  },
  {
   "cell_type": "code",
   "source": [
    "device = torch.device('cuda' if torch.cuda.is_available() else 'cpu')\n",
    "\n",
    "wandinit = True\n",
    "resume_from_checkpoint = None\n",
    "#resume_from_checkpoint = \"experiments/ATFUNet_20250805-160941_iter5000/ckpt_100.pt\"\n",
    "config_json_manual = True\n",
    "\n",
    "# --- Configuration ---\n",
    "config = {\n",
    "    \"data\": {\n",
    "        \"data_dir\": \"/content/drive/MyDrive/ir_fs2000_s1024_m1331_room4.0x6.0x3.0_rt200/\",\n",
    "        \"src_splits\": {\n",
    "            \"train\": [0, 820],\n",
    "            \"valid\": [820, 922],\n",
    "            \"test\": [922, 1024],\n",
    "            \"all\": [0, 1024]}\n",
    "    },\n",
    "    \"model\": {\n",
    "        \"name\": \"ATFUNet\",\n",
    "        \"channels\": [32, 64, 128],\n",
    "        \"num_residual_layers\": 2,\n",
    "        \"t_embed_dim\": 40,\n",
    "        \"y_dim\": 4,\n",
    "        \"y_embed_dim\": 40\n",
    "    },\n",
    "    \"training\": {\n",
    "        \"num_iterations\": 8000,\n",
    "        \"batch_size\": 250,\n",
    "        \"lr\": 1e-3,\n",
    "        \"M\": 50,  # Number of observation points / mic recordings\n",
    "        \"eta\": 0.1\n",
    "    },\n",
    "    \"experiments_dir\": \"experiments\",\n",
    "}\n",
    "\n",
    "if config_json_manual:\n",
    "  checkpoint['wandb_run_id'] = \"12lzsgj9\"\n",
    "  checkpoint['iteration'] = 5000\n",
    "\n",
    "start_iteration = 0\n",
    "if resume_from_checkpoint and os.path.exists(resume_from_checkpoint):\n",
    "    checkpoint_dir = os.path.dirname(resume_from_checkpoint)\n",
    "    experiment_dir = os.path.dirname(checkpoint_dir)\n",
    "    experiment_name = os.path.basename(experiment_dir)\n",
    "\n",
    "    print(f\"Resuming training from checkpoint: {resume_from_checkpoint}\")\n",
    "    checkpoint = torch.load(resume_from_checkpoint, map_location=device)\n",
    "    start_iteration = checkpoint['iteration']\n",
    "\n",
    "    # Initialize wandb with the ID of the run you're resuming\n",
    "    wandb.login(key=\"ec2cf1718868be26a8055412b556d952681ee0b6\")\n",
    "    run_id = checkpoint['wandb_run_id']\n",
    "    wandb.init(project=\"FM-RIR\", id=run_id, resume=\"must\", config=config)\n",
    "\n",
    "else:\n",
    "    # --- Experiment Setup ---\n",
    "    timestamp = time.strftime(\"%Y%m%d-%H%M%S\")\n",
    "    experiment_name = f\"{config['model']['name']}_{timestamp}_iter{str(config['training']['num_iterations'])}\"\n",
    "    experiment_dir = os.path.join(config['experiments_dir'], experiment_name)\n",
    "    os.makedirs(experiment_dir, exist_ok=True)\n",
    "\n",
    "    # Initialize a new wandb run\n",
    "    if wandinit:\n",
    "        wandb.login(key=\"ec2cf1718868be26a8055412b556d952681ee0b6\")\n",
    "        run = wandb.init(project=\"FM-RIR\", name=experiment_name, config=config)\n",
    "        config['wandb_run_id'] = run.id\n",
    "\n",
    "    CONFIG_SAVE_PATH = os.path.join(experiment_dir, \"config.json\")\n",
    "\n",
    "    with open(CONFIG_SAVE_PATH, 'w') as f:\n",
    "        json.dump(config, f, indent=4)\n",
    "    print(f\"Experiment setup. Config saved to {CONFIG_SAVE_PATH}\")"
   ],
   "metadata": {
    "id": "S6CmWdrfg1sj",
    "colab": {
     "base_uri": "https://localhost:8080/",
     "height": 227
    },
    "outputId": "d0f0b6c1-a12d-4569-cb60-900d74844611"
   },
   "execution_count": 17,
   "outputs": [
    {
     "output_type": "stream",
     "name": "stderr",
     "text": [
      "\u001B[34m\u001B[1mwandb\u001B[0m: \u001B[33mWARNING\u001B[0m Calling wandb.login() after wandb.init() has no effect.\n"
     ]
    },
    {
     "output_type": "display_data",
     "data": {
      "text/plain": [
       "<IPython.core.display.HTML object>"
      ],
      "text/html": [
       "Finishing previous runs because reinit is set to 'default'."
      ]
     },
     "metadata": {}
    },
    {
     "output_type": "display_data",
     "data": {
      "text/plain": [
       "<IPython.core.display.HTML object>"
      ],
      "text/html": []
     },
     "metadata": {}
    },
    {
     "output_type": "display_data",
     "data": {
      "text/plain": [
       "<IPython.core.display.HTML object>"
      ],
      "text/html": [
       " View run <strong style=\"color:#cdcd00\">ATFUNet_20250805-161537_iter5000</strong> at: <a href='https://wandb.ai/ege-erdem-king-s-college-london/FM-RIR/runs/hlezkhj9' target=\"_blank\">https://wandb.ai/ege-erdem-king-s-college-london/FM-RIR/runs/hlezkhj9</a><br> View project at: <a href='https://wandb.ai/ege-erdem-king-s-college-london/FM-RIR' target=\"_blank\">https://wandb.ai/ege-erdem-king-s-college-london/FM-RIR</a><br>Synced 5 W&B file(s), 0 media file(s), 0 artifact file(s) and 0 other file(s)"
      ]
     },
     "metadata": {}
    },
    {
     "output_type": "display_data",
     "data": {
      "text/plain": [
       "<IPython.core.display.HTML object>"
      ],
      "text/html": [
       "Find logs at: <code>./wandb/run-20250805_161537-hlezkhj9/logs</code>"
      ]
     },
     "metadata": {}
    },
    {
     "output_type": "display_data",
     "data": {
      "text/plain": [
       "<IPython.core.display.HTML object>"
      ],
      "text/html": [
       "Tracking run with wandb version 0.21.0"
      ]
     },
     "metadata": {}
    },
    {
     "output_type": "display_data",
     "data": {
      "text/plain": [
       "<IPython.core.display.HTML object>"
      ],
      "text/html": [
       "Run data is saved locally in <code>/content/wandb/run-20250805_161558-12lzsgj9</code>"
      ]
     },
     "metadata": {}
    },
    {
     "output_type": "display_data",
     "data": {
      "text/plain": [
       "<IPython.core.display.HTML object>"
      ],
      "text/html": [
       "Syncing run <strong><a href='https://wandb.ai/ege-erdem-king-s-college-london/FM-RIR/runs/12lzsgj9' target=\"_blank\">ATFUNet_20250805-161558_iter5000</a></strong> to <a href='https://wandb.ai/ege-erdem-king-s-college-london/FM-RIR' target=\"_blank\">Weights & Biases</a> (<a href='https://wandb.me/developer-guide' target=\"_blank\">docs</a>)<br>"
      ]
     },
     "metadata": {}
    },
    {
     "output_type": "display_data",
     "data": {
      "text/plain": [
       "<IPython.core.display.HTML object>"
      ],
      "text/html": [
       " View project at <a href='https://wandb.ai/ege-erdem-king-s-college-london/FM-RIR' target=\"_blank\">https://wandb.ai/ege-erdem-king-s-college-london/FM-RIR</a>"
      ]
     },
     "metadata": {}
    },
    {
     "output_type": "display_data",
     "data": {
      "text/plain": [
       "<IPython.core.display.HTML object>"
      ],
      "text/html": [
       " View run at <a href='https://wandb.ai/ege-erdem-king-s-college-london/FM-RIR/runs/12lzsgj9' target=\"_blank\">https://wandb.ai/ege-erdem-king-s-college-london/FM-RIR/runs/12lzsgj9</a>"
      ]
     },
     "metadata": {}
    },
    {
     "output_type": "stream",
     "name": "stdout",
     "text": [
      "Experiment setup. Config saved to experiments/ATFUNet_20250805-161558_iter5000/config.json\n"
     ]
    }
   ]
  },
  {
   "cell_type": "code",
   "source": [
    "# run = wandb.init(\n",
    "#     # Set the wandb entity where your project will be logged (generally your team name).\n",
    "#     entity=\"ege-erdem-king-s-college-london\",\n",
    "#     # Set the wandb project where this run will be logged.\n",
    "#     project=\"FM-RIR\",\n",
    "#     # Track hyperparameters and run metadata.\n",
    "#     config=config\n",
    "#     )"
   ],
   "metadata": {
    "colab": {
     "base_uri": "https://localhost:8080/",
     "height": 104
    },
    "id": "POGMl6wSrVex",
    "outputId": "cd3c7d82-58cc-48c8-f85e-421344be0a03"
   },
   "execution_count": null,
   "outputs": [
    {
     "output_type": "display_data",
     "data": {
      "text/plain": [
       "<IPython.core.display.HTML object>"
      ],
      "text/html": [
       "Tracking run with wandb version 0.21.0"
      ]
     },
     "metadata": {}
    },
    {
     "output_type": "display_data",
     "data": {
      "text/plain": [
       "<IPython.core.display.HTML object>"
      ],
      "text/html": [
       "Run data is saved locally in <code>/content/wandb/run-20250730_112156-xhdp5pue</code>"
      ]
     },
     "metadata": {}
    },
    {
     "output_type": "display_data",
     "data": {
      "text/plain": [
       "<IPython.core.display.HTML object>"
      ],
      "text/html": [
       "Syncing run <strong><a href='https://wandb.ai/ege-erdem-king-s-college-london/FM-RIR/runs/xhdp5pue' target=\"_blank\">celestial-dream-4</a></strong> to <a href='https://wandb.ai/ege-erdem-king-s-college-london/FM-RIR' target=\"_blank\">Weights & Biases</a> (<a href='https://wandb.me/developer-guide' target=\"_blank\">docs</a>)<br>"
      ]
     },
     "metadata": {}
    },
    {
     "output_type": "display_data",
     "data": {
      "text/plain": [
       "<IPython.core.display.HTML object>"
      ],
      "text/html": [
       " View project at <a href='https://wandb.ai/ege-erdem-king-s-college-london/FM-RIR' target=\"_blank\">https://wandb.ai/ege-erdem-king-s-college-london/FM-RIR</a>"
      ]
     },
     "metadata": {}
    },
    {
     "output_type": "display_data",
     "data": {
      "text/plain": [
       "<IPython.core.display.HTML object>"
      ],
      "text/html": [
       " View run at <a href='https://wandb.ai/ege-erdem-king-s-college-london/FM-RIR/runs/xhdp5pue' target=\"_blank\">https://wandb.ai/ege-erdem-king-s-college-london/FM-RIR/runs/xhdp5pue</a>"
      ]
     },
     "metadata": {}
    }
   ]
  },
  {
   "cell_type": "code",
   "source": [
    "MODEL_SAVE_PATH = os.path.join(experiment_dir, \"model.pt\")\n",
    "CHECKPOINT_DIR = os.path.join(experiment_dir, \"checkpoints\")\n",
    "os.makedirs(CHECKPOINT_DIR, exist_ok=True)\n",
    "\n",
    "# --- Data Loading ---\n",
    "data_cfg = config['data']\n",
    "\n",
    "# we calculate normalization stats from data the model will be trained on.\n",
    "# --- Instantiate Samplers for each split (only ONCE) ---\n",
    "\n",
    "atf_train_sampler = ATFSliceSampler(\n",
    "    data_path=data_cfg['data_dir'], mode='train', src_splits=data_cfg['src_splits']).to(device)\n",
    "\n",
    "atf_valid_sampler = ATFSliceSampler(\n",
    "    data_path=data_cfg['data_dir'], mode='valid', src_splits=data_cfg['src_splits']).to(device)\n",
    "\n",
    "# --- Calculate stats from the single training sampler instance ---\n",
    "spec_mean = atf_train_sampler.slices.mean()\n",
    "spec_std = atf_train_sampler.slices.std()\n",
    "print(f\"\\nCalculated Mean: {spec_mean:.4f}, Std: {spec_std:.4f} (from training set)\")\n",
    "\n",
    "# --- Define and apply the transform to the existing samplers ---\n",
    "# We pad the 11x11 grid to 12x12 according to the torch documentation order:  left, top, right and bottom\n",
    "padding = (0, 0, 1, 1) # right col and bottom row padded!\n",
    "\n",
    "transform = transforms.Compose([\n",
    "    transforms.Pad(padding, padding_mode='reflect'),\n",
    "    transforms.Normalize((spec_mean,), (spec_std,)),\n",
    "])\n",
    "\n",
    "atf_train_sampler.transform = transform\n",
    "atf_valid_sampler.transform = transform\n",
    "\n",
    "atf_valid_sampler.plot()\n",
    "\n",
    "sample_spec, _ = atf_train_sampler.sample(1) # The sample_spec will now have shape (1, 64, 11, 11)\n",
    "# The shape for the path object should be [C, H, W]\n",
    "atf_shape = list(sample_spec.shape[1:]) # This will be [64, 11, 11]\n",
    "print(f\"ATF Slice shape for Path: {atf_shape}\")\n",
    "\n",
    "path = GaussianConditionalProbabilityPath(\n",
    "    p_data = atf_train_sampler,\n",
    "    p_simple_shape = atf_shape,\n",
    "    alpha = LinearAlpha(),\n",
    "    beta = LinearBeta()\n",
    ").to(device)\n",
    "\n",
    "# --- Model and Trainer Initialization ---\n",
    "model_cfg = config['model']\n",
    "training_cfg = config['training']\n",
    "\n",
    "atf_unet = ATFUNet(\n",
    "    channels=model_cfg['channels'],  # Same as MNIST version\n",
    "    num_residual_layers=model_cfg['num_residual_layers'],  # Same as MNIST version\n",
    "    t_embed_dim=model_cfg['t_embed_dim'],  # Same as MNIST version\n",
    "    y_dim=model_cfg['y_dim'],  # new: 6D coordinates for source and microphone positions\n",
    "    y_embed_dim=model_cfg['y_embed_dim'],  # Same as MNIST version\n",
    ").to(device)\n",
    "\n",
    "trainer = ATFInpaintingTrainer(\n",
    "    path=path,\n",
    "    model=atf_unet,\n",
    "    eta=training_cfg['eta'],\n",
    "    M = 40, #Number of observation points / mic recordings\n",
    "    y_dim=model_cfg['y_dim'],\n",
    ")\n",
    "\n",
    "if start_iteration > 0:\n",
    "    atf_unet.load_state_dict(checkpoint['model_state_dict'])\n",
    "    trainer.y_null.data = checkpoint['y_null'].to(device)\n",
    "\n",
    "# --- Visualize the masking ---\n",
    "#trainer.visualize_masking(crop=True, sample_idx=15, freq_idx=20)\n",
    "\n",
    "# --- Training ---\n",
    "print(f\"\\n--- Starting Training for experiment: {experiment_name} ---\")\n",
    "trainer.train(\n",
    "    num_iterations=training_cfg['num_iterations'],\n",
    "    device=device,\n",
    "    lr=training_cfg['lr'],\n",
    "    batch_size=training_cfg['batch_size'],\n",
    "    valid_sampler=atf_valid_sampler,\n",
    "    save_path=MODEL_SAVE_PATH,\n",
    "    checkpoint_path=CHECKPOINT_DIR,\n",
    "    checkpoint_interval=20,  # Save a checkpoint every 1000 iterations\n",
    "    m=training_cfg['M'],  # Number of observation points / mic recordings\n",
    "    start_iteration=start_iteration,  # Start from 0 or the loaded iteration\n",
    "    config=config\n",
    ")\n",
    "\n",
    "# --- Finalizing the Run ---\n",
    "# Log the best model as a wandb Artifact for easy access later\n",
    "if os.path.exists(MODEL_SAVE_PATH):\n",
    "    print(\"Logging best model to W&B Artifacts...\")\n",
    "    best_model_artifact = wandb.Artifact(f\"{wandb.run.name}-best-model\", type=\"model\")\n",
    "    best_model_artifact.add_file(MODEL_SAVE_PATH)\n",
    "    wandb.log_artifact(best_model_artifact)\n",
    "\n",
    "wandb.finish()\n",
    "print(\"Training complete and wandb run finished.\")"
   ],
   "metadata": {
    "colab": {
     "base_uri": "https://localhost:8080/",
     "height": 1000
    },
    "id": "hcjX9kLSjpx5",
    "outputId": "bc20806b-b29c-4daa-9025-bf2be73d7d5b"
   },
   "execution_count": 19,
   "outputs": [
    {
     "output_type": "stream",
     "name": "stdout",
     "text": [
      "Loading pre-processed ATF train data from /content/drive/MyDrive/ir_fs2000_s1024_m1331_room4.0x6.0x3.0_rt200/processed_atf_train.pt\n",
      "Loaded 9020 ATF slices for train set.\n",
      "Slice tensor shape: torch.Size([9020, 64, 11, 11])\n",
      "Coordinate tensor shape: torch.Size([9020, 4])\n",
      "Loading pre-processed ATF valid data from /content/drive/MyDrive/ir_fs2000_s1024_m1331_room4.0x6.0x3.0_rt200/processed_atf_valid.pt\n",
      "Loaded 1122 ATF slices for valid set.\n",
      "Slice tensor shape: torch.Size([1122, 64, 11, 11])\n",
      "Coordinate tensor shape: torch.Size([1122, 4])\n",
      "\n",
      "Calculated Mean: -6.7216, Std: 6.1725 (from training set)\n",
      "ATF Slice shape for Path: [64, 12, 12]\n",
      "\n",
      "--- Starting Training for experiment: ATFUNet_20250805-161558_iter5000 ---\n",
      "Training model with size: 4.861 MiB\n"
     ]
    },
    {
     "output_type": "stream",
     "name": "stderr",
     "text": [
      "\r  0%|          | 0/5000 [00:00<?, ?it/s]"
     ]
    },
    {
     "output_type": "stream",
     "name": "stdout",
     "text": [
      "\\n--- Tensor Shapes (First Training Step) ---\n",
      "  Input Slice (z):          torch.Size([250, 64, 12, 12])\n",
      "  Masked Slice (z_masked):    torch.Size([250, 64, 12, 12])\n",
      "  Noisy Sample (x_t):         torch.Size([250, 64, 12, 12])\n",
      "  Ground Truth Coords (y):    torch.Size([250, 4])\n",
      "  Null Embedding (y_null):    torch.Size([1, 4])\n",
      "  Final Condition (y_cond):   torch.Size([250, 4])\n",
      "  Model Output (ut_theta):    torch.Size([250, 65, 12, 12])\n",
      "  No. of observations (M): 40\n",
      " cropped loss' shape: ut_theta[:, :, :-1, :-1]  torch.Size([250, 65, 11, 11])\n",
      "------------------------------------------\\n\n"
     ]
    },
    {
     "output_type": "stream",
     "name": "stderr",
     "text": [
      "Epoch: 0.58, Iter: 20, Loss: 0.559:   0%|          | 21/5000 [00:03<06:56, 11.94it/s]"
     ]
    },
    {
     "output_type": "stream",
     "name": "stdout",
     "text": [
      "\n",
      "--- Saving checkpoint at iteration 20 ---\n"
     ]
    },
    {
     "output_type": "stream",
     "name": "stderr",
     "text": [
      "Epoch: 1.14, Iter: 40, Loss: 0.524:   1%|          | 41/5000 [00:04<06:26, 12.84it/s]"
     ]
    },
    {
     "output_type": "stream",
     "name": "stdout",
     "text": [
      "\n",
      "--- Saving checkpoint at iteration 40 ---\n"
     ]
    },
    {
     "output_type": "stream",
     "name": "stderr",
     "text": [
      "Epoch: 1.44, Iter: 51, Loss: 0.517:   1%|          | 51/5000 [00:05<06:44, 12.23it/s]"
     ]
    },
    {
     "output_type": "stream",
     "name": "stdout",
     "text": [
      "** [Iter 49] New best val. loss: 0.512 while train loss: 0.516. Saving model. **\n"
     ]
    },
    {
     "output_type": "stream",
     "name": "stderr",
     "text": [
      "Epoch: 1.69, Iter: 60, Loss: 0.508:   1%|          | 61/5000 [00:06<06:42, 12.27it/s]"
     ]
    },
    {
     "output_type": "stream",
     "name": "stdout",
     "text": [
      "\n",
      "--- Saving checkpoint at iteration 60 ---\n"
     ]
    },
    {
     "output_type": "stream",
     "name": "stderr",
     "text": [
      "Epoch: 2.25, Iter: 80, Loss: 0.497:   2%|▏         | 81/5000 [00:07<06:25, 12.76it/s]"
     ]
    },
    {
     "output_type": "stream",
     "name": "stdout",
     "text": [
      "\n",
      "--- Saving checkpoint at iteration 80 ---\n"
     ]
    },
    {
     "output_type": "stream",
     "name": "stderr",
     "text": [
      "Epoch: 2.80, Iter: 100, Loss: 0.484:   2%|▏         | 101/5000 [00:09<07:27, 10.94it/s]"
     ]
    },
    {
     "output_type": "stream",
     "name": "stdout",
     "text": [
      "** [Iter 99] New best val. loss: 0.487 while train loss: 0.489. Saving model. **\n",
      "\n",
      "--- Saving checkpoint at iteration 100 ---\n"
     ]
    },
    {
     "output_type": "stream",
     "name": "stderr",
     "text": [
      "Epoch: 3.35, Iter: 120, Loss: 0.482:   2%|▏         | 121/5000 [00:10<06:59, 11.62it/s]"
     ]
    },
    {
     "output_type": "stream",
     "name": "stdout",
     "text": [
      "\n",
      "--- Saving checkpoint at iteration 120 ---\n"
     ]
    },
    {
     "output_type": "stream",
     "name": "stderr",
     "text": [
      "Epoch: 3.91, Iter: 140, Loss: 0.468:   3%|▎         | 141/5000 [00:12<07:47, 10.39it/s]"
     ]
    },
    {
     "output_type": "stream",
     "name": "stdout",
     "text": [
      "\n",
      "--- Saving checkpoint at iteration 140 ---\n"
     ]
    },
    {
     "output_type": "stream",
     "name": "stderr",
     "text": [
      "Epoch: 4.19, Iter: 150, Loss: 0.464:   3%|▎         | 151/5000 [00:13<07:32, 10.71it/s]"
     ]
    },
    {
     "output_type": "stream",
     "name": "stdout",
     "text": [
      "** [Iter 149] New best val. loss: 0.466 while train loss: 0.468. Saving model. **\n"
     ]
    },
    {
     "output_type": "stream",
     "name": "stderr",
     "text": [
      "Epoch: 4.43, Iter: 159, Loss: 0.458:   3%|▎         | 159/5000 [00:13<06:39, 12.12it/s]"
     ]
    },
    {
     "output_type": "stream",
     "name": "stdout",
     "text": [
      "\n",
      "--- Saving checkpoint at iteration 160 ---\n"
     ]
    },
    {
     "output_type": "stream",
     "name": "stderr",
     "text": [
      "Epoch: 5.02, Iter: 180, Loss: 0.447:   4%|▎         | 181/5000 [00:15<06:36, 12.16it/s]"
     ]
    },
    {
     "output_type": "stream",
     "name": "stdout",
     "text": [
      "\n",
      "--- Saving checkpoint at iteration 180 ---\n"
     ]
    },
    {
     "output_type": "stream",
     "name": "stderr",
     "text": [
      "Epoch: 5.57, Iter: 200, Loss: 0.442:   4%|▍         | 201/5000 [00:17<07:16, 11.00it/s]"
     ]
    },
    {
     "output_type": "stream",
     "name": "stdout",
     "text": [
      "** [Iter 199] New best val. loss: 0.443 while train loss: 0.448. Saving model. **\n",
      "\n",
      "--- Saving checkpoint at iteration 200 ---\n"
     ]
    },
    {
     "output_type": "stream",
     "name": "stderr",
     "text": [
      "Epoch: 6.15, Iter: 221, Loss: 0.435:   4%|▍         | 221/5000 [00:18<06:18, 12.61it/s]"
     ]
    },
    {
     "output_type": "stream",
     "name": "stdout",
     "text": [
      "\n",
      "--- Saving checkpoint at iteration 220 ---\n"
     ]
    },
    {
     "output_type": "stream",
     "name": "stderr",
     "text": [
      "Epoch: 6.71, Iter: 241, Loss: 0.431:   5%|▍         | 241/5000 [00:20<05:48, 13.66it/s]"
     ]
    },
    {
     "output_type": "stream",
     "name": "stdout",
     "text": [
      "\n",
      "--- Saving checkpoint at iteration 240 ---\n"
     ]
    },
    {
     "output_type": "stream",
     "name": "stderr",
     "text": [
      "Epoch: 6.98, Iter: 251, Loss: 0.429:   5%|▌         | 251/5000 [00:20<05:51, 13.52it/s]"
     ]
    },
    {
     "output_type": "stream",
     "name": "stdout",
     "text": [
      "** [Iter 249] New best val. loss: 0.427 while train loss: 0.428. Saving model. **\n"
     ]
    },
    {
     "output_type": "stream",
     "name": "stderr",
     "text": [
      "Epoch: 7.26, Iter: 261, Loss: 0.424:   5%|▌         | 261/5000 [00:21<05:52, 13.46it/s]"
     ]
    },
    {
     "output_type": "stream",
     "name": "stdout",
     "text": [
      "\n",
      "--- Saving checkpoint at iteration 260 ---\n"
     ]
    },
    {
     "output_type": "stream",
     "name": "stderr",
     "text": [
      "Epoch: 7.82, Iter: 281, Loss: 0.418:   6%|▌         | 281/5000 [00:22<05:45, 13.67it/s]"
     ]
    },
    {
     "output_type": "stream",
     "name": "stdout",
     "text": [
      "\n",
      "--- Saving checkpoint at iteration 280 ---\n"
     ]
    },
    {
     "output_type": "stream",
     "name": "stderr",
     "text": [
      "Epoch: 8.3149, Iter: 299, Loss: 0.418, Val Loss: 0.409:   6%|▌         | 299/5000 [00:23<05:01, 15.61it/s]"
     ]
    },
    {
     "output_type": "stream",
     "name": "stdout",
     "text": [
      "** [Iter 299] New best val. loss: 0.409 while train loss: 0.418. Saving model. **\n",
      "\n",
      "--- Saving checkpoint at iteration 300 ---\n"
     ]
    },
    {
     "output_type": "stream",
     "name": "stderr",
     "text": [
      "Epoch: 8.90, Iter: 320, Loss: 0.405:   6%|▋         | 321/5000 [00:25<06:46, 11.50it/s]"
     ]
    },
    {
     "output_type": "stream",
     "name": "stdout",
     "text": [
      "\n",
      "--- Saving checkpoint at iteration 320 ---\n"
     ]
    },
    {
     "output_type": "stream",
     "name": "stderr",
     "text": [
      "Epoch: 9.45, Iter: 340, Loss: 0.409:   7%|▋         | 341/5000 [00:27<06:52, 11.31it/s]"
     ]
    },
    {
     "output_type": "stream",
     "name": "stdout",
     "text": [
      "\n",
      "--- Saving checkpoint at iteration 340 ---\n"
     ]
    },
    {
     "output_type": "stream",
     "name": "stderr",
     "text": [
      "Epoch: 9.76, Iter: 351, Loss: 0.404:   7%|▋         | 351/5000 [00:28<06:52, 11.27it/s]"
     ]
    },
    {
     "output_type": "stream",
     "name": "stdout",
     "text": [
      "** [Iter 349] New best val. loss: 0.407 while train loss: 0.404. Saving model. **\n"
     ]
    },
    {
     "output_type": "stream",
     "name": "stderr",
     "text": [
      "Epoch: 10.03, Iter: 361, Loss: 0.401:   7%|▋         | 361/5000 [00:28<06:22, 12.11it/s]"
     ]
    },
    {
     "output_type": "stream",
     "name": "stdout",
     "text": [
      "\n",
      "--- Saving checkpoint at iteration 360 ---\n"
     ]
    },
    {
     "output_type": "stream",
     "name": "stderr",
     "text": [
      "Epoch: 10.59, Iter: 381, Loss: 0.396:   8%|▊         | 381/5000 [00:30<05:38, 13.66it/s]"
     ]
    },
    {
     "output_type": "stream",
     "name": "stdout",
     "text": [
      "\n",
      "--- Saving checkpoint at iteration 380 ---\n"
     ]
    },
    {
     "output_type": "stream",
     "name": "stderr",
     "text": [
      "Epoch: 11.11, Iter: 400, Loss: 0.393:   8%|▊         | 401/5000 [00:31<06:14, 12.29it/s]"
     ]
    },
    {
     "output_type": "stream",
     "name": "stdout",
     "text": [
      "** [Iter 399] New best val. loss: 0.391 while train loss: 0.390. Saving model. **\n",
      "\n",
      "--- Saving checkpoint at iteration 400 ---\n"
     ]
    },
    {
     "output_type": "stream",
     "name": "stderr",
     "text": [
      "Epoch: 11.70, Iter: 421, Loss: 0.394:   8%|▊         | 421/5000 [00:32<05:53, 12.97it/s]"
     ]
    },
    {
     "output_type": "stream",
     "name": "stdout",
     "text": [
      "\n",
      "--- Saving checkpoint at iteration 420 ---\n"
     ]
    },
    {
     "output_type": "stream",
     "name": "stderr",
     "text": [
      "Epoch: 12.25, Iter: 441, Loss: 0.385:   9%|▉         | 441/5000 [00:34<06:04, 12.49it/s]"
     ]
    },
    {
     "output_type": "stream",
     "name": "stdout",
     "text": [
      "\n",
      "--- Saving checkpoint at iteration 440 ---\n"
     ]
    },
    {
     "output_type": "stream",
     "name": "stderr",
     "text": [
      "Epoch: 12.53, Iter: 451, Loss: 0.381:   9%|▉         | 451/5000 [00:35<05:38, 13.44it/s]"
     ]
    },
    {
     "output_type": "stream",
     "name": "stdout",
     "text": [
      "** [Iter 449] New best val. loss: 0.384 while train loss: 0.385. Saving model. **\n"
     ]
    },
    {
     "output_type": "stream",
     "name": "stderr",
     "text": [
      "Epoch: 12.80, Iter: 461, Loss: 0.379:   9%|▉         | 461/5000 [00:35<05:37, 13.45it/s]"
     ]
    },
    {
     "output_type": "stream",
     "name": "stdout",
     "text": [
      "\n",
      "--- Saving checkpoint at iteration 460 ---\n"
     ]
    },
    {
     "output_type": "stream",
     "name": "stderr",
     "text": [
      "Epoch: 13.36, Iter: 481, Loss: 0.375:  10%|▉         | 481/5000 [00:37<05:34, 13.52it/s]"
     ]
    },
    {
     "output_type": "stream",
     "name": "stdout",
     "text": [
      "\n",
      "--- Saving checkpoint at iteration 480 ---\n"
     ]
    },
    {
     "output_type": "stream",
     "name": "stderr",
     "text": [
      "Epoch: 13.89, Iter: 500, Loss: 0.375:  10%|█         | 501/5000 [00:38<06:11, 12.11it/s]"
     ]
    },
    {
     "output_type": "stream",
     "name": "stdout",
     "text": [
      "** [Iter 499] New best val. loss: 0.373 while train loss: 0.372. Saving model. **\n",
      "\n",
      "--- Saving checkpoint at iteration 500 ---\n"
     ]
    },
    {
     "output_type": "stream",
     "name": "stderr",
     "text": [
      "Epoch: 14.44, Iter: 520, Loss: 0.376:  10%|█         | 521/5000 [00:39<06:32, 11.41it/s]"
     ]
    },
    {
     "output_type": "stream",
     "name": "stdout",
     "text": [
      "\n",
      "--- Saving checkpoint at iteration 520 ---\n"
     ]
    },
    {
     "output_type": "stream",
     "name": "stderr",
     "text": [
      "Epoch: 14.99, Iter: 540, Loss: 0.370:  11%|█         | 541/5000 [00:41<06:24, 11.60it/s]"
     ]
    },
    {
     "output_type": "stream",
     "name": "stdout",
     "text": [
      "\n",
      "--- Saving checkpoint at iteration 540 ---\n"
     ]
    },
    {
     "output_type": "stream",
     "name": "stderr",
     "text": [
      "Epoch: 15.30, Iter: 551, Loss: 0.367:  11%|█         | 551/5000 [00:42<06:38, 11.17it/s]"
     ]
    },
    {
     "output_type": "stream",
     "name": "stdout",
     "text": [
      "** [Iter 549] New best val. loss: 0.367 while train loss: 0.365. Saving model. **\n"
     ]
    },
    {
     "output_type": "stream",
     "name": "stderr",
     "text": [
      "Epoch: 15.55, Iter: 560, Loss: 0.364:  11%|█         | 561/5000 [00:43<05:59, 12.34it/s]"
     ]
    },
    {
     "output_type": "stream",
     "name": "stdout",
     "text": [
      "\n",
      "--- Saving checkpoint at iteration 560 ---\n"
     ]
    },
    {
     "output_type": "stream",
     "name": "stderr",
     "text": [
      "Epoch: 16.13, Iter: 581, Loss: 0.365:  12%|█▏        | 581/5000 [00:44<05:21, 13.74it/s]"
     ]
    },
    {
     "output_type": "stream",
     "name": "stdout",
     "text": [
      "\n",
      "--- Saving checkpoint at iteration 580 ---\n"
     ]
    },
    {
     "output_type": "stream",
     "name": "stderr",
     "text": [
      "Epoch: 16.66, Iter: 600, Loss: 0.354:  12%|█▏        | 601/5000 [00:45<06:31, 11.23it/s]"
     ]
    },
    {
     "output_type": "stream",
     "name": "stdout",
     "text": [
      "** [Iter 599] New best val. loss: 0.358 while train loss: 0.360. Saving model. **\n",
      "\n",
      "--- Saving checkpoint at iteration 600 ---\n"
     ]
    },
    {
     "output_type": "stream",
     "name": "stderr",
     "text": [
      "Epoch: 17.21, Iter: 620, Loss: 0.360:  12%|█▏        | 621/5000 [00:47<05:35, 13.05it/s]"
     ]
    },
    {
     "output_type": "stream",
     "name": "stdout",
     "text": [
      "\n",
      "--- Saving checkpoint at iteration 620 ---\n"
     ]
    },
    {
     "output_type": "stream",
     "name": "stderr",
     "text": [
      "Epoch: 17.77, Iter: 640, Loss: 0.351:  13%|█▎        | 641/5000 [00:48<05:25, 13.40it/s]"
     ]
    },
    {
     "output_type": "stream",
     "name": "stdout",
     "text": [
      "\n",
      "--- Saving checkpoint at iteration 640 ---\n"
     ]
    },
    {
     "output_type": "stream",
     "name": "stderr",
     "text": [
      "Epoch: 18.07, Iter: 651, Loss: 0.344:  13%|█▎        | 651/5000 [00:49<05:21, 13.51it/s]"
     ]
    },
    {
     "output_type": "stream",
     "name": "stdout",
     "text": [
      "** [Iter 649] New best val. loss: 0.346 while train loss: 0.350. Saving model. **\n"
     ]
    },
    {
     "output_type": "stream",
     "name": "stderr",
     "text": [
      "Epoch: 18.32, Iter: 660, Loss: 0.347:  13%|█▎        | 661/5000 [00:49<05:31, 13.09it/s]"
     ]
    },
    {
     "output_type": "stream",
     "name": "stdout",
     "text": [
      "\n",
      "--- Saving checkpoint at iteration 660 ---\n"
     ]
    },
    {
     "output_type": "stream",
     "name": "stderr",
     "text": [
      "Epoch: 18.90, Iter: 681, Loss: 0.341:  14%|█▎        | 681/5000 [00:51<05:14, 13.73it/s]"
     ]
    },
    {
     "output_type": "stream",
     "name": "stdout",
     "text": [
      "\n",
      "--- Saving checkpoint at iteration 680 ---\n"
     ]
    },
    {
     "output_type": "stream",
     "name": "stderr",
     "text": [
      "Epoch: 19.43, Iter: 700, Loss: 0.340:  14%|█▍        | 701/5000 [00:52<05:58, 12.00it/s]"
     ]
    },
    {
     "output_type": "stream",
     "name": "stdout",
     "text": [
      "** [Iter 699] New best val. loss: 0.342 while train loss: 0.340. Saving model. **\n",
      "\n",
      "--- Saving checkpoint at iteration 700 ---\n"
     ]
    },
    {
     "output_type": "stream",
     "name": "stderr",
     "text": [
      "Epoch: 19.98, Iter: 720, Loss: 0.337:  14%|█▍        | 721/5000 [00:54<06:24, 11.12it/s]"
     ]
    },
    {
     "output_type": "stream",
     "name": "stdout",
     "text": [
      "\n",
      "--- Saving checkpoint at iteration 720 ---\n"
     ]
    },
    {
     "output_type": "stream",
     "name": "stderr",
     "text": [
      "Epoch: 20.54, Iter: 740, Loss: 0.335:  15%|█▍        | 741/5000 [00:55<06:11, 11.46it/s]"
     ]
    },
    {
     "output_type": "stream",
     "name": "stdout",
     "text": [
      "\n",
      "--- Saving checkpoint at iteration 740 ---\n"
     ]
    },
    {
     "output_type": "stream",
     "name": "stderr",
     "text": [
      "Epoch: 20.7871, Iter: 749, Loss: 0.336, Val Loss: 0.335:  15%|█▍        | 749/5000 [00:56<05:41, 12.45it/s]"
     ]
    },
    {
     "output_type": "stream",
     "name": "stdout",
     "text": [
      "** [Iter 749] New best val. loss: 0.335 while train loss: 0.336. Saving model. **\n"
     ]
    },
    {
     "output_type": "stream",
     "name": "stderr",
     "text": [
      "Epoch: 21.12, Iter: 761, Loss: 0.329:  15%|█▌        | 761/5000 [00:57<06:19, 11.16it/s]"
     ]
    },
    {
     "output_type": "stream",
     "name": "stdout",
     "text": [
      "\n",
      "--- Saving checkpoint at iteration 760 ---\n"
     ]
    },
    {
     "output_type": "stream",
     "name": "stderr",
     "text": [
      "Epoch: 21.67, Iter: 781, Loss: 0.326:  16%|█▌        | 781/5000 [00:59<05:05, 13.79it/s]"
     ]
    },
    {
     "output_type": "stream",
     "name": "stdout",
     "text": [
      "\n",
      "--- Saving checkpoint at iteration 780 ---\n"
     ]
    },
    {
     "output_type": "stream",
     "name": "stderr",
     "text": [
      "Epoch: 22.20, Iter: 800, Loss: 0.327:  16%|█▌        | 801/5000 [01:00<05:56, 11.79it/s]"
     ]
    },
    {
     "output_type": "stream",
     "name": "stdout",
     "text": [
      "** [Iter 799] New best val. loss: 0.325 while train loss: 0.322. Saving model. **\n",
      "\n",
      "--- Saving checkpoint at iteration 800 ---\n"
     ]
    },
    {
     "output_type": "stream",
     "name": "stderr",
     "text": [
      "Epoch: 22.78, Iter: 821, Loss: 0.322:  16%|█▋        | 821/5000 [01:01<05:05, 13.69it/s]"
     ]
    },
    {
     "output_type": "stream",
     "name": "stdout",
     "text": [
      "\n",
      "--- Saving checkpoint at iteration 820 ---\n"
     ]
    },
    {
     "output_type": "stream",
     "name": "stderr",
     "text": [
      "Epoch: 23.34, Iter: 841, Loss: 0.315:  17%|█▋        | 841/5000 [01:03<04:59, 13.87it/s]"
     ]
    },
    {
     "output_type": "stream",
     "name": "stdout",
     "text": [
      "\n",
      "--- Saving checkpoint at iteration 840 ---\n"
     ]
    },
    {
     "output_type": "stream",
     "name": "stderr",
     "text": [
      "Epoch: 23.61, Iter: 851, Loss: 0.319:  17%|█▋        | 851/5000 [01:03<05:02, 13.70it/s]"
     ]
    },
    {
     "output_type": "stream",
     "name": "stdout",
     "text": [
      "** [Iter 849] New best val. loss: 0.319 while train loss: 0.321. Saving model. **\n"
     ]
    },
    {
     "output_type": "stream",
     "name": "stderr",
     "text": [
      "Epoch: 23.86, Iter: 860, Loss: 0.319:  17%|█▋        | 861/5000 [01:04<05:19, 12.96it/s]"
     ]
    },
    {
     "output_type": "stream",
     "name": "stdout",
     "text": [
      "\n",
      "--- Saving checkpoint at iteration 860 ---\n"
     ]
    },
    {
     "output_type": "stream",
     "name": "stderr",
     "text": [
      "Epoch: 24.45, Iter: 881, Loss: 0.319:  18%|█▊        | 881/5000 [01:05<05:02, 13.60it/s]"
     ]
    },
    {
     "output_type": "stream",
     "name": "stdout",
     "text": [
      "\n",
      "--- Saving checkpoint at iteration 880 ---\n"
     ]
    },
    {
     "output_type": "stream",
     "name": "stderr",
     "text": [
      "Epoch: 24.9446, Iter: 899, Loss: 0.315, Val Loss: 0.318:  18%|█▊        | 899/5000 [01:06<04:27, 15.35it/s]"
     ]
    },
    {
     "output_type": "stream",
     "name": "stdout",
     "text": [
      "** [Iter 899] New best val. loss: 0.318 while train loss: 0.315. Saving model. **\n",
      "\n",
      "--- Saving checkpoint at iteration 900 ---\n"
     ]
    },
    {
     "output_type": "stream",
     "name": "stderr",
     "text": [
      "Epoch: 25.53, Iter: 920, Loss: 0.308:  18%|█▊        | 921/5000 [01:08<05:59, 11.33it/s]"
     ]
    },
    {
     "output_type": "stream",
     "name": "stdout",
     "text": [
      "\n",
      "--- Saving checkpoint at iteration 920 ---\n"
     ]
    },
    {
     "output_type": "stream",
     "name": "stderr",
     "text": [
      "Epoch: 26.08, Iter: 940, Loss: 0.310:  19%|█▉        | 941/5000 [01:10<05:59, 11.30it/s]"
     ]
    },
    {
     "output_type": "stream",
     "name": "stdout",
     "text": [
      "\n",
      "--- Saving checkpoint at iteration 940 ---\n"
     ]
    },
    {
     "output_type": "stream",
     "name": "stderr",
     "text": [
      "Epoch: 26.39, Iter: 951, Loss: 0.309:  19%|█▉        | 951/5000 [01:11<05:21, 12.61it/s]"
     ]
    },
    {
     "output_type": "stream",
     "name": "stdout",
     "text": [
      "** [Iter 949] New best val. loss: 0.311 while train loss: 0.311. Saving model. **\n"
     ]
    },
    {
     "output_type": "stream",
     "name": "stderr",
     "text": [
      "Epoch: 26.64, Iter: 960, Loss: 0.308:  19%|█▉        | 961/5000 [01:11<05:02, 13.36it/s]"
     ]
    },
    {
     "output_type": "stream",
     "name": "stdout",
     "text": [
      "\n",
      "--- Saving checkpoint at iteration 960 ---\n"
     ]
    },
    {
     "output_type": "stream",
     "name": "stderr",
     "text": [
      "Epoch: 27.22, Iter: 981, Loss: 0.306:  20%|█▉        | 981/5000 [01:13<04:59, 13.42it/s]"
     ]
    },
    {
     "output_type": "stream",
     "name": "stdout",
     "text": [
      "\n",
      "--- Saving checkpoint at iteration 980 ---\n"
     ]
    },
    {
     "output_type": "stream",
     "name": "stderr",
     "text": [
      "Epoch: 27.74, Iter: 1000, Loss: 0.304:  20%|██        | 1001/5000 [01:14<05:30, 12.08it/s]"
     ]
    },
    {
     "output_type": "stream",
     "name": "stdout",
     "text": [
      "** [Iter 999] New best val. loss: 0.306 while train loss: 0.298. Saving model. **\n",
      "\n",
      "--- Saving checkpoint at iteration 1000 ---\n"
     ]
    },
    {
     "output_type": "stream",
     "name": "stderr",
     "text": [
      "Epoch: 28.33, Iter: 1021, Loss: 0.306:  20%|██        | 1021/5000 [01:15<04:54, 13.50it/s]"
     ]
    },
    {
     "output_type": "stream",
     "name": "stdout",
     "text": [
      "\n",
      "--- Saving checkpoint at iteration 1020 ---\n"
     ]
    },
    {
     "output_type": "stream",
     "name": "stderr",
     "text": [
      "Epoch: 28.88, Iter: 1041, Loss: 0.299:  21%|██        | 1041/5000 [01:17<04:54, 13.46it/s]"
     ]
    },
    {
     "output_type": "stream",
     "name": "stdout",
     "text": [
      "\n",
      "--- Saving checkpoint at iteration 1040 ---\n"
     ]
    },
    {
     "output_type": "stream",
     "name": "stderr",
     "text": [
      "Epoch: 29.16, Iter: 1051, Loss: 0.303:  21%|██        | 1051/5000 [01:17<04:51, 13.54it/s]"
     ]
    },
    {
     "output_type": "stream",
     "name": "stdout",
     "text": [
      "** [Iter 1049] New best val. loss: 0.300 while train loss: 0.299. Saving model. **\n"
     ]
    },
    {
     "output_type": "stream",
     "name": "stderr",
     "text": [
      "Epoch: 29.43, Iter: 1061, Loss: 0.297:  21%|██        | 1061/5000 [01:18<05:07, 12.81it/s]"
     ]
    },
    {
     "output_type": "stream",
     "name": "stdout",
     "text": [
      "\n",
      "--- Saving checkpoint at iteration 1060 ---\n"
     ]
    },
    {
     "output_type": "stream",
     "name": "stderr",
     "text": [
      "Epoch: 29.96, Iter: 1080, Loss: 0.296:  22%|██▏       | 1081/5000 [01:19<05:01, 13.02it/s]"
     ]
    },
    {
     "output_type": "stream",
     "name": "stdout",
     "text": [
      "\n",
      "--- Saving checkpoint at iteration 1080 ---\n"
     ]
    },
    {
     "output_type": "stream",
     "name": "stderr",
     "text": [
      "Epoch: 30.4878, Iter: 1099, Loss: 0.293, Val Loss: 0.295:  22%|██▏       | 1099/5000 [01:21<04:54, 13.27it/s]"
     ]
    },
    {
     "output_type": "stream",
     "name": "stdout",
     "text": [
      "** [Iter 1099] New best val. loss: 0.295 while train loss: 0.293. Saving model. **\n",
      "\n",
      "--- Saving checkpoint at iteration 1100 ---\n"
     ]
    },
    {
     "output_type": "stream",
     "name": "stderr",
     "text": [
      "Epoch: 31.07, Iter: 1120, Loss: 0.292:  22%|██▏       | 1121/5000 [01:23<05:48, 11.12it/s]"
     ]
    },
    {
     "output_type": "stream",
     "name": "stdout",
     "text": [
      "\n",
      "--- Saving checkpoint at iteration 1120 ---\n"
     ]
    },
    {
     "output_type": "stream",
     "name": "stderr",
     "text": [
      "Epoch: 31.62, Iter: 1140, Loss: 0.291:  23%|██▎       | 1141/5000 [01:24<05:44, 11.19it/s]"
     ]
    },
    {
     "output_type": "stream",
     "name": "stdout",
     "text": [
      "\n",
      "--- Saving checkpoint at iteration 1140 ---\n"
     ]
    },
    {
     "output_type": "stream",
     "name": "stderr",
     "text": [
      "Epoch: 31.93, Iter: 1151, Loss: 0.291:  23%|██▎       | 1151/5000 [01:25<05:03, 12.68it/s]"
     ]
    },
    {
     "output_type": "stream",
     "name": "stdout",
     "text": [
      "** [Iter 1149] New best val. loss: 0.291 while train loss: 0.289. Saving model. **\n"
     ]
    },
    {
     "output_type": "stream",
     "name": "stderr",
     "text": [
      "Epoch: 32.21, Iter: 1161, Loss: 0.286:  23%|██▎       | 1161/5000 [01:26<04:50, 13.21it/s]"
     ]
    },
    {
     "output_type": "stream",
     "name": "stdout",
     "text": [
      "\n",
      "--- Saving checkpoint at iteration 1160 ---\n"
     ]
    },
    {
     "output_type": "stream",
     "name": "stderr",
     "text": [
      "Epoch: 32.76, Iter: 1181, Loss: 0.292:  24%|██▎       | 1181/5000 [01:27<04:38, 13.70it/s]"
     ]
    },
    {
     "output_type": "stream",
     "name": "stdout",
     "text": [
      "\n",
      "--- Saving checkpoint at iteration 1180 ---\n"
     ]
    },
    {
     "output_type": "stream",
     "name": "stderr",
     "text": [
      "Epoch: 33.29, Iter: 1200, Loss: 0.284:  24%|██▍       | 1201/5000 [01:28<05:25, 11.66it/s]"
     ]
    },
    {
     "output_type": "stream",
     "name": "stdout",
     "text": [
      "** [Iter 1199] New best val. loss: 0.289 while train loss: 0.288. Saving model. **\n",
      "\n",
      "--- Saving checkpoint at iteration 1200 ---\n"
     ]
    },
    {
     "output_type": "stream",
     "name": "stderr",
     "text": [
      "Epoch: 33.87, Iter: 1221, Loss: 0.279:  24%|██▍       | 1221/5000 [01:30<04:41, 13.40it/s]"
     ]
    },
    {
     "output_type": "stream",
     "name": "stdout",
     "text": [
      "\n",
      "--- Saving checkpoint at iteration 1220 ---\n"
     ]
    },
    {
     "output_type": "stream",
     "name": "stderr",
     "text": [
      "Epoch: 34.40, Iter: 1240, Loss: 0.286:  25%|██▍       | 1241/5000 [01:31<04:37, 13.55it/s]"
     ]
    },
    {
     "output_type": "stream",
     "name": "stdout",
     "text": [
      "\n",
      "--- Saving checkpoint at iteration 1240 ---\n"
     ]
    },
    {
     "output_type": "stream",
     "name": "stderr",
     "text": [
      "Epoch: 34.70, Iter: 1251, Loss: 0.284:  25%|██▌       | 1251/5000 [01:32<04:36, 13.57it/s]"
     ]
    },
    {
     "output_type": "stream",
     "name": "stdout",
     "text": [
      "** [Iter 1249] New best val. loss: 0.286 while train loss: 0.283. Saving model. **\n"
     ]
    },
    {
     "output_type": "stream",
     "name": "stderr",
     "text": [
      "Epoch: 34.98, Iter: 1261, Loss: 0.283:  25%|██▌       | 1261/5000 [01:32<04:38, 13.44it/s]"
     ]
    },
    {
     "output_type": "stream",
     "name": "stdout",
     "text": [
      "\n",
      "--- Saving checkpoint at iteration 1260 ---\n"
     ]
    },
    {
     "output_type": "stream",
     "name": "stderr",
     "text": [
      "Epoch: 35.53, Iter: 1281, Loss: 0.275:  26%|██▌       | 1281/5000 [01:34<04:30, 13.77it/s]"
     ]
    },
    {
     "output_type": "stream",
     "name": "stdout",
     "text": [
      "\n",
      "--- Saving checkpoint at iteration 1280 ---\n"
     ]
    },
    {
     "output_type": "stream",
     "name": "stderr",
     "text": [
      "Epoch: 36.0310, Iter: 1299, Loss: 0.276, Val Loss: 0.278:  26%|██▌       | 1299/5000 [01:35<04:24, 14.00it/s]"
     ]
    },
    {
     "output_type": "stream",
     "name": "stdout",
     "text": [
      "** [Iter 1299] New best val. loss: 0.278 while train loss: 0.276. Saving model. **\n",
      "\n",
      "--- Saving checkpoint at iteration 1300 ---\n"
     ]
    },
    {
     "output_type": "stream",
     "name": "stderr",
     "text": [
      "Epoch: 36.61, Iter: 1320, Loss: 0.272:  26%|██▋       | 1321/5000 [01:37<05:18, 11.55it/s]"
     ]
    },
    {
     "output_type": "stream",
     "name": "stdout",
     "text": [
      "\n",
      "--- Saving checkpoint at iteration 1320 ---\n"
     ]
    },
    {
     "output_type": "stream",
     "name": "stderr",
     "text": [
      "Epoch: 37.17, Iter: 1340, Loss: 0.274:  27%|██▋       | 1341/5000 [01:38<05:05, 11.97it/s]"
     ]
    },
    {
     "output_type": "stream",
     "name": "stdout",
     "text": [
      "\n",
      "--- Saving checkpoint at iteration 1340 ---\n"
     ]
    },
    {
     "output_type": "stream",
     "name": "stderr",
     "text": [
      "Epoch: 37.47, Iter: 1351, Loss: 0.276:  27%|██▋       | 1351/5000 [01:39<04:39, 13.07it/s]"
     ]
    },
    {
     "output_type": "stream",
     "name": "stdout",
     "text": [
      "** [Iter 1349] New best val. loss: 0.275 while train loss: 0.275. Saving model. **\n"
     ]
    },
    {
     "output_type": "stream",
     "name": "stderr",
     "text": [
      "Epoch: 37.75, Iter: 1361, Loss: 0.272:  27%|██▋       | 1361/5000 [01:40<04:37, 13.13it/s]"
     ]
    },
    {
     "output_type": "stream",
     "name": "stdout",
     "text": [
      "\n",
      "--- Saving checkpoint at iteration 1360 ---\n"
     ]
    },
    {
     "output_type": "stream",
     "name": "stderr",
     "text": [
      "Epoch: 38.30, Iter: 1381, Loss: 0.266:  28%|██▊       | 1381/5000 [01:41<04:22, 13.79it/s]"
     ]
    },
    {
     "output_type": "stream",
     "name": "stdout",
     "text": [
      "\n",
      "--- Saving checkpoint at iteration 1380 ---\n"
     ]
    },
    {
     "output_type": "stream",
     "name": "stderr",
     "text": [
      "Epoch: 38.83, Iter: 1400, Loss: 0.267:  28%|██▊       | 1401/5000 [01:42<05:21, 11.20it/s]"
     ]
    },
    {
     "output_type": "stream",
     "name": "stdout",
     "text": [
      "** [Iter 1399] New best val. loss: 0.269 while train loss: 0.269. Saving model. **\n",
      "\n",
      "--- Saving checkpoint at iteration 1400 ---\n"
     ]
    },
    {
     "output_type": "stream",
     "name": "stderr",
     "text": [
      "Epoch: 39.38, Iter: 1420, Loss: 0.272:  28%|██▊       | 1421/5000 [01:44<04:50, 12.31it/s]"
     ]
    },
    {
     "output_type": "stream",
     "name": "stdout",
     "text": [
      "\n",
      "--- Saving checkpoint at iteration 1420 ---\n"
     ]
    },
    {
     "output_type": "stream",
     "name": "stderr",
     "text": [
      "Epoch: 39.97, Iter: 1441, Loss: 0.265:  29%|██▉       | 1441/5000 [01:45<04:29, 13.22it/s]"
     ]
    },
    {
     "output_type": "stream",
     "name": "stdout",
     "text": [
      "\n",
      "--- Saving checkpoint at iteration 1440 ---\n"
     ]
    },
    {
     "output_type": "stream",
     "name": "stderr",
     "text": [
      "Epoch: 40.24, Iter: 1451, Loss: 0.264:  29%|██▉       | 1451/5000 [01:46<04:34, 12.93it/s]"
     ]
    },
    {
     "output_type": "stream",
     "name": "stdout",
     "text": [
      "** [Iter 1449] New best val. loss: 0.267 while train loss: 0.268. Saving model. **\n"
     ]
    },
    {
     "output_type": "stream",
     "name": "stderr",
     "text": [
      "Epoch: 40.52, Iter: 1461, Loss: 0.263:  29%|██▉       | 1461/5000 [01:47<04:28, 13.19it/s]"
     ]
    },
    {
     "output_type": "stream",
     "name": "stdout",
     "text": [
      "\n",
      "--- Saving checkpoint at iteration 1460 ---\n"
     ]
    },
    {
     "output_type": "stream",
     "name": "stderr",
     "text": [
      "Epoch: 41.08, Iter: 1481, Loss: 0.263:  30%|██▉       | 1481/5000 [01:48<04:23, 13.35it/s]"
     ]
    },
    {
     "output_type": "stream",
     "name": "stdout",
     "text": [
      "\n",
      "--- Saving checkpoint at iteration 1480 ---\n"
     ]
    },
    {
     "output_type": "stream",
     "name": "stderr",
     "text": [
      "Epoch: 41.5743, Iter: 1499, Loss: 0.265, Val Loss: 0.266:  30%|██▉       | 1499/5000 [01:50<04:16, 13.66it/s]"
     ]
    },
    {
     "output_type": "stream",
     "name": "stdout",
     "text": [
      "** [Iter 1499] New best val. loss: 0.266 while train loss: 0.265. Saving model. **\n",
      "\n",
      "--- Saving checkpoint at iteration 1500 ---\n"
     ]
    },
    {
     "output_type": "stream",
     "name": "stderr",
     "text": [
      "Epoch: 42.16, Iter: 1520, Loss: 0.259:  30%|███       | 1521/5000 [01:51<05:02, 11.49it/s]"
     ]
    },
    {
     "output_type": "stream",
     "name": "stdout",
     "text": [
      "\n",
      "--- Saving checkpoint at iteration 1520 ---\n"
     ]
    },
    {
     "output_type": "stream",
     "name": "stderr",
     "text": [
      "Epoch: 42.74, Iter: 1541, Loss: 0.259:  31%|███       | 1541/5000 [01:53<04:20, 13.26it/s]"
     ]
    },
    {
     "output_type": "stream",
     "name": "stdout",
     "text": [
      "\n",
      "--- Saving checkpoint at iteration 1540 ---\n"
     ]
    },
    {
     "output_type": "stream",
     "name": "stderr",
     "text": [
      "Epoch: 43.29, Iter: 1561, Loss: 0.262:  31%|███       | 1561/5000 [01:54<04:16, 13.39it/s]"
     ]
    },
    {
     "output_type": "stream",
     "name": "stdout",
     "text": [
      "\n",
      "--- Saving checkpoint at iteration 1560 ---\n"
     ]
    },
    {
     "output_type": "stream",
     "name": "stderr",
     "text": [
      "Epoch: 43.85, Iter: 1581, Loss: 0.259:  32%|███▏      | 1581/5000 [01:55<04:08, 13.74it/s]"
     ]
    },
    {
     "output_type": "stream",
     "name": "stdout",
     "text": [
      "\n",
      "--- Saving checkpoint at iteration 1580 ---\n"
     ]
    },
    {
     "output_type": "stream",
     "name": "stderr",
     "text": [
      "Epoch: 44.37, Iter: 1600, Loss: 0.254:  32%|███▏      | 1601/5000 [01:57<04:40, 12.13it/s]"
     ]
    },
    {
     "output_type": "stream",
     "name": "stdout",
     "text": [
      "** [Iter 1599] New best val. loss: 0.258 while train loss: 0.255. Saving model. **\n",
      "\n",
      "--- Saving checkpoint at iteration 1600 ---\n"
     ]
    },
    {
     "output_type": "stream",
     "name": "stderr",
     "text": [
      "Epoch: 44.96, Iter: 1621, Loss: 0.257:  32%|███▏      | 1621/5000 [01:58<04:04, 13.82it/s]"
     ]
    },
    {
     "output_type": "stream",
     "name": "stdout",
     "text": [
      "\n",
      "--- Saving checkpoint at iteration 1620 ---\n"
     ]
    },
    {
     "output_type": "stream",
     "name": "stderr",
     "text": [
      "Epoch: 45.48, Iter: 1640, Loss: 0.254:  33%|███▎      | 1641/5000 [01:59<04:26, 12.60it/s]"
     ]
    },
    {
     "output_type": "stream",
     "name": "stdout",
     "text": [
      "\n",
      "--- Saving checkpoint at iteration 1640 ---\n"
     ]
    },
    {
     "output_type": "stream",
     "name": "stderr",
     "text": [
      "Epoch: 45.79, Iter: 1651, Loss: 0.254:  33%|███▎      | 1651/5000 [02:00<04:12, 13.26it/s]"
     ]
    },
    {
     "output_type": "stream",
     "name": "stdout",
     "text": [
      "** [Iter 1649] New best val. loss: 0.256 while train loss: 0.256. Saving model. **\n"
     ]
    },
    {
     "output_type": "stream",
     "name": "stderr",
     "text": [
      "Epoch: 46.06, Iter: 1661, Loss: 0.252:  33%|███▎      | 1661/5000 [02:01<04:09, 13.38it/s]"
     ]
    },
    {
     "output_type": "stream",
     "name": "stdout",
     "text": [
      "\n",
      "--- Saving checkpoint at iteration 1660 ---\n"
     ]
    },
    {
     "output_type": "stream",
     "name": "stderr",
     "text": [
      "Epoch: 46.62, Iter: 1681, Loss: 0.247:  34%|███▎      | 1681/5000 [02:02<04:01, 13.75it/s]"
     ]
    },
    {
     "output_type": "stream",
     "name": "stdout",
     "text": [
      "\n",
      "--- Saving checkpoint at iteration 1680 ---\n"
     ]
    },
    {
     "output_type": "stream",
     "name": "stderr",
     "text": [
      "Epoch: 47.1175, Iter: 1699, Loss: 0.251, Val Loss: 0.252:  34%|███▍      | 1699/5000 [02:04<03:49, 14.39it/s]"
     ]
    },
    {
     "output_type": "stream",
     "name": "stdout",
     "text": [
      "** [Iter 1699] New best val. loss: 0.252 while train loss: 0.251. Saving model. **\n",
      "\n",
      "--- Saving checkpoint at iteration 1700 ---\n"
     ]
    },
    {
     "output_type": "stream",
     "name": "stderr",
     "text": [
      "Epoch: 47.70, Iter: 1720, Loss: 0.245:  34%|███▍      | 1721/5000 [02:05<04:40, 11.69it/s]"
     ]
    },
    {
     "output_type": "stream",
     "name": "stdout",
     "text": [
      "\n",
      "--- Saving checkpoint at iteration 1720 ---\n"
     ]
    },
    {
     "output_type": "stream",
     "name": "stderr",
     "text": [
      "Epoch: 48.25, Iter: 1740, Loss: 0.247:  35%|███▍      | 1741/5000 [02:07<04:15, 12.77it/s]"
     ]
    },
    {
     "output_type": "stream",
     "name": "stdout",
     "text": [
      "\n",
      "--- Saving checkpoint at iteration 1740 ---\n"
     ]
    },
    {
     "output_type": "stream",
     "name": "stderr",
     "text": [
      "Epoch: 48.56, Iter: 1751, Loss: 0.243:  35%|███▌      | 1751/5000 [02:08<04:00, 13.54it/s]"
     ]
    },
    {
     "output_type": "stream",
     "name": "stdout",
     "text": [
      "** [Iter 1749] New best val. loss: 0.249 while train loss: 0.244. Saving model. **\n"
     ]
    },
    {
     "output_type": "stream",
     "name": "stderr",
     "text": [
      "Epoch: 48.84, Iter: 1761, Loss: 0.245:  35%|███▌      | 1761/5000 [02:08<04:01, 13.39it/s]"
     ]
    },
    {
     "output_type": "stream",
     "name": "stdout",
     "text": [
      "\n",
      "--- Saving checkpoint at iteration 1760 ---\n"
     ]
    },
    {
     "output_type": "stream",
     "name": "stderr",
     "text": [
      "Epoch: 49.39, Iter: 1781, Loss: 0.243:  36%|███▌      | 1781/5000 [02:10<03:53, 13.81it/s]"
     ]
    },
    {
     "output_type": "stream",
     "name": "stdout",
     "text": [
      "\n",
      "--- Saving checkpoint at iteration 1780 ---\n"
     ]
    },
    {
     "output_type": "stream",
     "name": "stderr",
     "text": [
      "Epoch: 49.94, Iter: 1801, Loss: 0.244:  36%|███▌      | 1801/5000 [02:11<04:11, 12.71it/s]"
     ]
    },
    {
     "output_type": "stream",
     "name": "stdout",
     "text": [
      "\n",
      "--- Saving checkpoint at iteration 1800 ---\n"
     ]
    },
    {
     "output_type": "stream",
     "name": "stderr",
     "text": [
      "Epoch: 50.50, Iter: 1821, Loss: 0.239:  36%|███▋      | 1821/5000 [02:12<03:52, 13.67it/s]"
     ]
    },
    {
     "output_type": "stream",
     "name": "stdout",
     "text": [
      "\n",
      "--- Saving checkpoint at iteration 1820 ---\n"
     ]
    },
    {
     "output_type": "stream",
     "name": "stderr",
     "text": [
      "Epoch: 51.05, Iter: 1841, Loss: 0.242:  37%|███▋      | 1841/5000 [02:14<03:50, 13.71it/s]"
     ]
    },
    {
     "output_type": "stream",
     "name": "stdout",
     "text": [
      "\n",
      "--- Saving checkpoint at iteration 1840 ---\n"
     ]
    },
    {
     "output_type": "stream",
     "name": "stderr",
     "text": [
      "Epoch: 51.33, Iter: 1851, Loss: 0.238:  37%|███▋      | 1851/5000 [02:14<03:54, 13.41it/s]"
     ]
    },
    {
     "output_type": "stream",
     "name": "stdout",
     "text": [
      "** [Iter 1849] New best val. loss: 0.245 while train loss: 0.239. Saving model. **\n"
     ]
    },
    {
     "output_type": "stream",
     "name": "stderr",
     "text": [
      "Epoch: 51.61, Iter: 1861, Loss: 0.242:  37%|███▋      | 1861/5000 [02:15<03:53, 13.44it/s]"
     ]
    },
    {
     "output_type": "stream",
     "name": "stdout",
     "text": [
      "\n",
      "--- Saving checkpoint at iteration 1860 ---\n"
     ]
    },
    {
     "output_type": "stream",
     "name": "stderr",
     "text": [
      "Epoch: 52.13, Iter: 1880, Loss: 0.239:  38%|███▊      | 1881/5000 [02:16<03:49, 13.59it/s]"
     ]
    },
    {
     "output_type": "stream",
     "name": "stdout",
     "text": [
      "\n",
      "--- Saving checkpoint at iteration 1880 ---\n"
     ]
    },
    {
     "output_type": "stream",
     "name": "stderr",
     "text": [
      "Epoch: 52.69, Iter: 1900, Loss: 0.238:  38%|███▊      | 1901/5000 [02:18<05:06, 10.11it/s]"
     ]
    },
    {
     "output_type": "stream",
     "name": "stdout",
     "text": [
      "** [Iter 1899] New best val. loss: 0.239 while train loss: 0.235. Saving model. **\n",
      "\n",
      "--- Saving checkpoint at iteration 1900 ---\n"
     ]
    },
    {
     "output_type": "stream",
     "name": "stderr",
     "text": [
      "Epoch: 53.24, Iter: 1920, Loss: 0.236:  38%|███▊      | 1921/5000 [02:19<04:29, 11.41it/s]"
     ]
    },
    {
     "output_type": "stream",
     "name": "stdout",
     "text": [
      "\n",
      "--- Saving checkpoint at iteration 1920 ---\n"
     ]
    },
    {
     "output_type": "stream",
     "name": "stderr",
     "text": [
      "Epoch: 53.82, Iter: 1941, Loss: 0.237:  39%|███▉      | 1941/5000 [02:21<03:48, 13.41it/s]"
     ]
    },
    {
     "output_type": "stream",
     "name": "stdout",
     "text": [
      "\n",
      "--- Saving checkpoint at iteration 1940 ---\n"
     ]
    },
    {
     "output_type": "stream",
     "name": "stderr",
     "text": [
      "Epoch: 54.38, Iter: 1961, Loss: 0.238:  39%|███▉      | 1961/5000 [02:22<03:45, 13.46it/s]"
     ]
    },
    {
     "output_type": "stream",
     "name": "stdout",
     "text": [
      "\n",
      "--- Saving checkpoint at iteration 1960 ---\n"
     ]
    },
    {
     "output_type": "stream",
     "name": "stderr",
     "text": [
      "Epoch: 54.93, Iter: 1981, Loss: 0.237:  40%|███▉      | 1981/5000 [02:24<03:44, 13.42it/s]"
     ]
    },
    {
     "output_type": "stream",
     "name": "stdout",
     "text": [
      "\n",
      "--- Saving checkpoint at iteration 1980 ---\n"
     ]
    },
    {
     "output_type": "stream",
     "name": "stderr",
     "text": [
      "Epoch: 55.46, Iter: 2000, Loss: 0.237:  40%|████      | 2001/5000 [02:25<04:20, 11.51it/s]"
     ]
    },
    {
     "output_type": "stream",
     "name": "stdout",
     "text": [
      "** [Iter 1999] New best val. loss: 0.239 while train loss: 0.235. Saving model. **\n",
      "\n",
      "--- Saving checkpoint at iteration 2000 ---\n"
     ]
    },
    {
     "output_type": "stream",
     "name": "stderr",
     "text": [
      "Epoch: 56.01, Iter: 2020, Loss: 0.235:  40%|████      | 2021/5000 [02:26<03:44, 13.26it/s]"
     ]
    },
    {
     "output_type": "stream",
     "name": "stdout",
     "text": [
      "\n",
      "--- Saving checkpoint at iteration 2020 ---\n"
     ]
    },
    {
     "output_type": "stream",
     "name": "stderr",
     "text": [
      "Epoch: 56.60, Iter: 2041, Loss: 0.234:  41%|████      | 2041/5000 [02:28<03:36, 13.67it/s]"
     ]
    },
    {
     "output_type": "stream",
     "name": "stdout",
     "text": [
      "\n",
      "--- Saving checkpoint at iteration 2040 ---\n"
     ]
    },
    {
     "output_type": "stream",
     "name": "stderr",
     "text": [
      "Epoch: 57.15, Iter: 2061, Loss: 0.231:  41%|████      | 2061/5000 [02:29<03:39, 13.40it/s]"
     ]
    },
    {
     "output_type": "stream",
     "name": "stdout",
     "text": [
      "\n",
      "--- Saving checkpoint at iteration 2060 ---\n"
     ]
    },
    {
     "output_type": "stream",
     "name": "stderr",
     "text": [
      "Epoch: 57.68, Iter: 2080, Loss: 0.229:  42%|████▏     | 2081/5000 [02:30<03:56, 12.33it/s]"
     ]
    },
    {
     "output_type": "stream",
     "name": "stdout",
     "text": [
      "\n",
      "--- Saving checkpoint at iteration 2080 ---\n"
     ]
    },
    {
     "output_type": "stream",
     "name": "stderr",
     "text": [
      "Epoch: 58.23, Iter: 2100, Loss: 0.234:  42%|████▏     | 2099/5000 [02:32<03:29, 13.82it/s]                   "
     ]
    },
    {
     "output_type": "stream",
     "name": "stdout",
     "text": [
      "** [Iter 2099] New best val. loss: 0.234 while train loss: 0.229. Saving model. **\n",
      "\n",
      "--- Saving checkpoint at iteration 2100 ---\n"
     ]
    },
    {
     "output_type": "stream",
     "name": "stderr",
     "text": [
      "Epoch: 58.79, Iter: 2120, Loss: 0.228:  42%|████▏     | 2121/5000 [02:34<04:20, 11.06it/s]"
     ]
    },
    {
     "output_type": "stream",
     "name": "stdout",
     "text": [
      "\n",
      "--- Saving checkpoint at iteration 2120 ---\n"
     ]
    },
    {
     "output_type": "stream",
     "name": "stderr",
     "text": [
      "Epoch: 59.34, Iter: 2140, Loss: 0.228:  43%|████▎     | 2141/5000 [02:35<03:37, 13.14it/s]"
     ]
    },
    {
     "output_type": "stream",
     "name": "stdout",
     "text": [
      "\n",
      "--- Saving checkpoint at iteration 2140 ---\n"
     ]
    },
    {
     "output_type": "stream",
     "name": "stderr",
     "text": [
      "Epoch: 59.65, Iter: 2151, Loss: 0.226:  43%|████▎     | 2151/5000 [02:36<03:31, 13.45it/s]"
     ]
    },
    {
     "output_type": "stream",
     "name": "stdout",
     "text": [
      "** [Iter 2149] New best val. loss: 0.231 while train loss: 0.227. Saving model. **\n"
     ]
    },
    {
     "output_type": "stream",
     "name": "stderr",
     "text": [
      "Epoch: 59.92, Iter: 2161, Loss: 0.225:  43%|████▎     | 2161/5000 [02:37<03:31, 13.42it/s]"
     ]
    },
    {
     "output_type": "stream",
     "name": "stdout",
     "text": [
      "\n",
      "--- Saving checkpoint at iteration 2160 ---\n"
     ]
    },
    {
     "output_type": "stream",
     "name": "stderr",
     "text": [
      "Epoch: 60.48, Iter: 2181, Loss: 0.226:  44%|████▎     | 2181/5000 [02:38<03:29, 13.44it/s]"
     ]
    },
    {
     "output_type": "stream",
     "name": "stdout",
     "text": [
      "\n",
      "--- Saving checkpoint at iteration 2180 ---\n"
     ]
    },
    {
     "output_type": "stream",
     "name": "stderr",
     "text": [
      "Epoch: 61.00, Iter: 2200, Loss: 0.226:  44%|████▍     | 2201/5000 [02:39<03:47, 12.29it/s]"
     ]
    },
    {
     "output_type": "stream",
     "name": "stdout",
     "text": [
      "\n",
      "--- Saving checkpoint at iteration 2200 ---\n"
     ]
    },
    {
     "output_type": "stream",
     "name": "stderr",
     "text": [
      "Epoch: 61.59, Iter: 2221, Loss: 0.229:  44%|████▍     | 2221/5000 [02:41<03:27, 13.38it/s]"
     ]
    },
    {
     "output_type": "stream",
     "name": "stdout",
     "text": [
      "\n",
      "--- Saving checkpoint at iteration 2220 ---\n"
     ]
    },
    {
     "output_type": "stream",
     "name": "stderr",
     "text": [
      "Epoch: 62.11, Iter: 2240, Loss: 0.228:  45%|████▍     | 2241/5000 [02:42<03:30, 13.13it/s]"
     ]
    },
    {
     "output_type": "stream",
     "name": "stdout",
     "text": [
      "\n",
      "--- Saving checkpoint at iteration 2240 ---\n"
     ]
    },
    {
     "output_type": "stream",
     "name": "stderr",
     "text": [
      "Epoch: 62.42, Iter: 2251, Loss: 0.225:  45%|████▌     | 2251/5000 [02:43<04:46,  9.58it/s]"
     ]
    },
    {
     "output_type": "stream",
     "name": "stdout",
     "text": [
      "** [Iter 2249] New best val. loss: 0.229 while train loss: 0.226. Saving model. **\n"
     ]
    },
    {
     "output_type": "stream",
     "name": "stderr",
     "text": [
      "Epoch: 62.67, Iter: 2260, Loss: 0.224:  45%|████▌     | 2261/5000 [02:44<03:52, 11.78it/s]"
     ]
    },
    {
     "output_type": "stream",
     "name": "stdout",
     "text": [
      "\n",
      "--- Saving checkpoint at iteration 2260 ---\n"
     ]
    },
    {
     "output_type": "stream",
     "name": "stderr",
     "text": [
      "Epoch: 63.22, Iter: 2280, Loss: 0.223:  46%|████▌     | 2281/5000 [02:45<04:03, 11.17it/s]"
     ]
    },
    {
     "output_type": "stream",
     "name": "stdout",
     "text": [
      "\n",
      "--- Saving checkpoint at iteration 2280 ---\n"
     ]
    },
    {
     "output_type": "stream",
     "name": "stderr",
     "text": [
      "Epoch: 63.7472, Iter: 2299, Loss: 0.221, Val Loss: 0.229:  46%|████▌     | 2299/5000 [02:47<03:16, 13.74it/s]"
     ]
    },
    {
     "output_type": "stream",
     "name": "stdout",
     "text": [
      "** [Iter 2299] New best val. loss: 0.229 while train loss: 0.221. Saving model. **\n",
      "\n",
      "--- Saving checkpoint at iteration 2300 ---\n"
     ]
    },
    {
     "output_type": "stream",
     "name": "stderr",
     "text": [
      "Epoch: 64.36, Iter: 2321, Loss: 0.220:  46%|████▋     | 2321/5000 [02:48<03:48, 11.71it/s]"
     ]
    },
    {
     "output_type": "stream",
     "name": "stdout",
     "text": [
      "\n",
      "--- Saving checkpoint at iteration 2320 ---\n"
     ]
    },
    {
     "output_type": "stream",
     "name": "stderr",
     "text": [
      "Epoch: 64.91, Iter: 2341, Loss: 0.221:  47%|████▋     | 2341/5000 [02:50<03:26, 12.89it/s]"
     ]
    },
    {
     "output_type": "stream",
     "name": "stdout",
     "text": [
      "\n",
      "--- Saving checkpoint at iteration 2340 ---\n"
     ]
    },
    {
     "output_type": "stream",
     "name": "stderr",
     "text": [
      "Epoch: 65.19, Iter: 2351, Loss: 0.219:  47%|████▋     | 2351/5000 [02:51<03:19, 13.27it/s]"
     ]
    },
    {
     "output_type": "stream",
     "name": "stdout",
     "text": [
      "** [Iter 2349] New best val. loss: 0.222 while train loss: 0.222. Saving model. **\n"
     ]
    },
    {
     "output_type": "stream",
     "name": "stderr",
     "text": [
      "Epoch: 65.47, Iter: 2361, Loss: 0.220:  47%|████▋     | 2361/5000 [02:51<03:19, 13.22it/s]"
     ]
    },
    {
     "output_type": "stream",
     "name": "stdout",
     "text": [
      "\n",
      "--- Saving checkpoint at iteration 2360 ---\n"
     ]
    },
    {
     "output_type": "stream",
     "name": "stderr",
     "text": [
      "Epoch: 66.02, Iter: 2381, Loss: 0.222:  48%|████▊     | 2381/5000 [02:53<03:10, 13.77it/s]"
     ]
    },
    {
     "output_type": "stream",
     "name": "stdout",
     "text": [
      "\n",
      "--- Saving checkpoint at iteration 2380 ---\n"
     ]
    },
    {
     "output_type": "stream",
     "name": "stderr",
     "text": [
      "Epoch: 66.55, Iter: 2400, Loss: 0.221:  48%|████▊     | 2401/5000 [02:54<03:32, 12.26it/s]"
     ]
    },
    {
     "output_type": "stream",
     "name": "stdout",
     "text": [
      "\n",
      "--- Saving checkpoint at iteration 2400 ---\n"
     ]
    },
    {
     "output_type": "stream",
     "name": "stderr",
     "text": [
      "Epoch: 67.13, Iter: 2421, Loss: 0.218:  48%|████▊     | 2421/5000 [02:55<03:09, 13.64it/s]"
     ]
    },
    {
     "output_type": "stream",
     "name": "stdout",
     "text": [
      "\n",
      "--- Saving checkpoint at iteration 2420 ---\n"
     ]
    },
    {
     "output_type": "stream",
     "name": "stderr",
     "text": [
      "Epoch: 67.68, Iter: 2441, Loss: 0.218:  49%|████▉     | 2441/5000 [02:57<03:05, 13.81it/s]"
     ]
    },
    {
     "output_type": "stream",
     "name": "stdout",
     "text": [
      "\n",
      "--- Saving checkpoint at iteration 2440 ---\n"
     ]
    },
    {
     "output_type": "stream",
     "name": "stderr",
     "text": [
      "Epoch: 68.24, Iter: 2461, Loss: 0.215:  49%|████▉     | 2461/5000 [02:58<03:06, 13.64it/s]"
     ]
    },
    {
     "output_type": "stream",
     "name": "stdout",
     "text": [
      "\n",
      "--- Saving checkpoint at iteration 2460 ---\n"
     ]
    },
    {
     "output_type": "stream",
     "name": "stderr",
     "text": [
      "Epoch: 68.76, Iter: 2480, Loss: 0.217:  50%|████▉     | 2481/5000 [02:59<03:41, 11.39it/s]"
     ]
    },
    {
     "output_type": "stream",
     "name": "stdout",
     "text": [
      "\n",
      "--- Saving checkpoint at iteration 2480 ---\n"
     ]
    },
    {
     "output_type": "stream",
     "name": "stderr",
     "text": [
      "Epoch: 69.32, Iter: 2500, Loss: 0.220:  50%|█████     | 2501/5000 [03:01<03:43, 11.20it/s]"
     ]
    },
    {
     "output_type": "stream",
     "name": "stdout",
     "text": [
      "\n",
      "--- Saving checkpoint at iteration 2500 ---\n"
     ]
    },
    {
     "output_type": "stream",
     "name": "stderr",
     "text": [
      "Epoch: 69.90, Iter: 2521, Loss: 0.218:  50%|█████     | 2521/5000 [03:02<03:20, 12.35it/s]"
     ]
    },
    {
     "output_type": "stream",
     "name": "stdout",
     "text": [
      "\n",
      "--- Saving checkpoint at iteration 2520 ---\n"
     ]
    },
    {
     "output_type": "stream",
     "name": "stderr",
     "text": [
      "Epoch: 70.43, Iter: 2540, Loss: 0.218:  51%|█████     | 2541/5000 [03:04<03:07, 13.12it/s]"
     ]
    },
    {
     "output_type": "stream",
     "name": "stdout",
     "text": [
      "\n",
      "--- Saving checkpoint at iteration 2540 ---\n"
     ]
    },
    {
     "output_type": "stream",
     "name": "stderr",
     "text": [
      "Epoch: 71.01, Iter: 2561, Loss: 0.218:  51%|█████     | 2561/5000 [03:05<03:01, 13.43it/s]"
     ]
    },
    {
     "output_type": "stream",
     "name": "stdout",
     "text": [
      "\n",
      "--- Saving checkpoint at iteration 2560 ---\n"
     ]
    },
    {
     "output_type": "stream",
     "name": "stderr",
     "text": [
      "Epoch: 71.54, Iter: 2580, Loss: 0.215:  52%|█████▏    | 2581/5000 [03:06<03:01, 13.29it/s]"
     ]
    },
    {
     "output_type": "stream",
     "name": "stdout",
     "text": [
      "\n",
      "--- Saving checkpoint at iteration 2580 ---\n"
     ]
    },
    {
     "output_type": "stream",
     "name": "stderr",
     "text": [
      "Epoch: 72.12, Iter: 2601, Loss: 0.220:  52%|█████▏    | 2601/5000 [03:08<04:20,  9.22it/s]"
     ]
    },
    {
     "output_type": "stream",
     "name": "stdout",
     "text": [
      "\n",
      "--- Saving checkpoint at iteration 2600 ---\n"
     ]
    },
    {
     "output_type": "stream",
     "name": "stderr",
     "text": [
      "Epoch: 72.64, Iter: 2620, Loss: 0.221:  52%|█████▏    | 2621/5000 [03:09<03:10, 12.47it/s]"
     ]
    },
    {
     "output_type": "stream",
     "name": "stdout",
     "text": [
      "\n",
      "--- Saving checkpoint at iteration 2620 ---\n"
     ]
    },
    {
     "output_type": "stream",
     "name": "stderr",
     "text": [
      "Epoch: 73.20, Iter: 2640, Loss: 0.215:  53%|█████▎    | 2641/5000 [03:11<03:03, 12.86it/s]"
     ]
    },
    {
     "output_type": "stream",
     "name": "stdout",
     "text": [
      "\n",
      "--- Saving checkpoint at iteration 2640 ---\n"
     ]
    },
    {
     "output_type": "stream",
     "name": "stderr",
     "text": [
      "Epoch: 73.50, Iter: 2651, Loss: 0.211:  53%|█████▎    | 2651/5000 [03:12<03:23, 11.54it/s]"
     ]
    },
    {
     "output_type": "stream",
     "name": "stdout",
     "text": [
      "** [Iter 2649] New best val. loss: 0.217 while train loss: 0.212. Saving model. **\n"
     ]
    },
    {
     "output_type": "stream",
     "name": "stderr",
     "text": [
      "Epoch: 73.75, Iter: 2660, Loss: 0.211:  53%|█████▎    | 2661/5000 [03:12<03:29, 11.15it/s]"
     ]
    },
    {
     "output_type": "stream",
     "name": "stdout",
     "text": [
      "\n",
      "--- Saving checkpoint at iteration 2660 ---\n"
     ]
    },
    {
     "output_type": "stream",
     "name": "stderr",
     "text": [
      "Epoch: 74.31, Iter: 2680, Loss: 0.212:  54%|█████▎    | 2681/5000 [03:14<03:30, 11.02it/s]"
     ]
    },
    {
     "output_type": "stream",
     "name": "stdout",
     "text": [
      "\n",
      "--- Saving checkpoint at iteration 2680 ---\n"
     ]
    },
    {
     "output_type": "stream",
     "name": "stderr",
     "text": [
      "Epoch: 74.86, Iter: 2700, Loss: 0.213:  54%|█████▍    | 2701/5000 [03:16<03:43, 10.29it/s]"
     ]
    },
    {
     "output_type": "stream",
     "name": "stdout",
     "text": [
      "\n",
      "--- Saving checkpoint at iteration 2700 ---\n"
     ]
    },
    {
     "output_type": "stream",
     "name": "stderr",
     "text": [
      "Epoch: 75.44, Iter: 2721, Loss: 0.214:  54%|█████▍    | 2721/5000 [03:17<03:02, 12.45it/s]"
     ]
    },
    {
     "output_type": "stream",
     "name": "stdout",
     "text": [
      "\n",
      "--- Saving checkpoint at iteration 2720 ---\n"
     ]
    },
    {
     "output_type": "stream",
     "name": "stderr",
     "text": [
      "Epoch: 75.97, Iter: 2740, Loss: 0.212:  55%|█████▍    | 2741/5000 [03:19<02:55, 12.89it/s]"
     ]
    },
    {
     "output_type": "stream",
     "name": "stdout",
     "text": [
      "\n",
      "--- Saving checkpoint at iteration 2740 ---\n"
     ]
    },
    {
     "output_type": "stream",
     "name": "stderr",
     "text": [
      "Epoch: 76.52, Iter: 2760, Loss: 0.213:  55%|█████▌    | 2761/5000 [03:20<03:00, 12.41it/s]"
     ]
    },
    {
     "output_type": "stream",
     "name": "stdout",
     "text": [
      "\n",
      "--- Saving checkpoint at iteration 2760 ---\n"
     ]
    },
    {
     "output_type": "stream",
     "name": "stderr",
     "text": [
      "Epoch: 77.11, Iter: 2781, Loss: 0.210:  56%|█████▌    | 2781/5000 [03:21<02:45, 13.40it/s]"
     ]
    },
    {
     "output_type": "stream",
     "name": "stdout",
     "text": [
      "\n",
      "--- Saving checkpoint at iteration 2780 ---\n"
     ]
    },
    {
     "output_type": "stream",
     "name": "stderr",
     "text": [
      "Epoch: 77.63, Iter: 2800, Loss: 0.208:  56%|█████▌    | 2801/5000 [03:23<03:02, 12.02it/s]"
     ]
    },
    {
     "output_type": "stream",
     "name": "stdout",
     "text": [
      "** [Iter 2799] New best val. loss: 0.216 while train loss: 0.209. Saving model. **\n",
      "\n",
      "--- Saving checkpoint at iteration 2800 ---\n"
     ]
    },
    {
     "output_type": "stream",
     "name": "stderr",
     "text": [
      "Epoch: 78.19, Iter: 2820, Loss: 0.213:  56%|█████▋    | 2821/5000 [03:24<02:44, 13.24it/s]"
     ]
    },
    {
     "output_type": "stream",
     "name": "stdout",
     "text": [
      "\n",
      "--- Saving checkpoint at iteration 2820 ---\n"
     ]
    },
    {
     "output_type": "stream",
     "name": "stderr",
     "text": [
      "Epoch: 78.77, Iter: 2841, Loss: 0.214:  57%|█████▋    | 2841/5000 [03:26<02:47, 12.93it/s]"
     ]
    },
    {
     "output_type": "stream",
     "name": "stdout",
     "text": [
      "\n",
      "--- Saving checkpoint at iteration 2840 ---\n"
     ]
    },
    {
     "output_type": "stream",
     "name": "stderr",
     "text": [
      "Epoch: 79.30, Iter: 2860, Loss: 0.209:  57%|█████▋    | 2861/5000 [03:27<03:13, 11.04it/s]"
     ]
    },
    {
     "output_type": "stream",
     "name": "stdout",
     "text": [
      "\n",
      "--- Saving checkpoint at iteration 2860 ---\n"
     ]
    },
    {
     "output_type": "stream",
     "name": "stderr",
     "text": [
      "Epoch: 79.85, Iter: 2880, Loss: 0.211:  58%|█████▊    | 2881/5000 [03:29<03:10, 11.14it/s]"
     ]
    },
    {
     "output_type": "stream",
     "name": "stdout",
     "text": [
      "\n",
      "--- Saving checkpoint at iteration 2880 ---\n"
     ]
    },
    {
     "output_type": "stream",
     "name": "stderr",
     "text": [
      "Epoch: 80.3769, Iter: 2899, Loss: 0.210, Val Loss: 0.218:  58%|█████▊    | 2899/5000 [03:30<02:54, 12.03it/s]"
     ]
    },
    {
     "output_type": "stream",
     "name": "stdout",
     "text": [
      "\n",
      "--- Saving checkpoint at iteration 2900 ---\n"
     ]
    },
    {
     "output_type": "stream",
     "name": "stderr",
     "text": [
      "Epoch: 80.99, Iter: 2921, Loss: 0.212:  58%|█████▊    | 2921/5000 [03:32<02:42, 12.76it/s]"
     ]
    },
    {
     "output_type": "stream",
     "name": "stdout",
     "text": [
      "\n",
      "--- Saving checkpoint at iteration 2920 ---\n"
     ]
    },
    {
     "output_type": "stream",
     "name": "stderr",
     "text": [
      "Epoch: 81.54, Iter: 2941, Loss: 0.209:  59%|█████▉    | 2941/5000 [03:33<02:35, 13.21it/s]"
     ]
    },
    {
     "output_type": "stream",
     "name": "stdout",
     "text": [
      "\n",
      "--- Saving checkpoint at iteration 2940 ---\n"
     ]
    },
    {
     "output_type": "stream",
     "name": "stderr",
     "text": [
      "Epoch: 81.82, Iter: 2951, Loss: 0.211:  59%|█████▉    | 2951/5000 [03:34<02:36, 13.11it/s]"
     ]
    },
    {
     "output_type": "stream",
     "name": "stdout",
     "text": [
      "** [Iter 2949] New best val. loss: 0.214 while train loss: 0.211. Saving model. **\n"
     ]
    },
    {
     "output_type": "stream",
     "name": "stderr",
     "text": [
      "Epoch: 82.07, Iter: 2960, Loss: 0.213:  59%|█████▉    | 2961/5000 [03:35<02:44, 12.41it/s]"
     ]
    },
    {
     "output_type": "stream",
     "name": "stdout",
     "text": [
      "\n",
      "--- Saving checkpoint at iteration 2960 ---\n"
     ]
    },
    {
     "output_type": "stream",
     "name": "stderr",
     "text": [
      "Epoch: 82.62, Iter: 2980, Loss: 0.208:  60%|█████▉    | 2981/5000 [03:36<02:38, 12.77it/s]"
     ]
    },
    {
     "output_type": "stream",
     "name": "stdout",
     "text": [
      "\n",
      "--- Saving checkpoint at iteration 2980 ---\n"
     ]
    },
    {
     "output_type": "stream",
     "name": "stderr",
     "text": [
      "Epoch: 83.18, Iter: 3000, Loss: 0.206:  60%|██████    | 3001/5000 [03:38<02:45, 12.11it/s]"
     ]
    },
    {
     "output_type": "stream",
     "name": "stdout",
     "text": [
      "\n",
      "--- Saving checkpoint at iteration 3000 ---\n"
     ]
    },
    {
     "output_type": "stream",
     "name": "stderr",
     "text": [
      "Epoch: 83.73, Iter: 3020, Loss: 0.210:  60%|██████    | 3021/5000 [03:39<02:32, 12.94it/s]"
     ]
    },
    {
     "output_type": "stream",
     "name": "stdout",
     "text": [
      "\n",
      "--- Saving checkpoint at iteration 3020 ---\n"
     ]
    },
    {
     "output_type": "stream",
     "name": "stderr",
     "text": [
      "Epoch: 84.28, Iter: 3040, Loss: 0.210:  61%|██████    | 3041/5000 [03:40<02:34, 12.68it/s]"
     ]
    },
    {
     "output_type": "stream",
     "name": "stdout",
     "text": [
      "\n",
      "--- Saving checkpoint at iteration 3040 ---\n"
     ]
    },
    {
     "output_type": "stream",
     "name": "stderr",
     "text": [
      "Epoch: 84.59, Iter: 3051, Loss: 0.208:  61%|██████    | 3051/5000 [03:41<02:35, 12.52it/s]"
     ]
    },
    {
     "output_type": "stream",
     "name": "stdout",
     "text": [
      "** [Iter 3049] New best val. loss: 0.211 while train loss: 0.211. Saving model. **\n"
     ]
    },
    {
     "output_type": "stream",
     "name": "stderr",
     "text": [
      "Epoch: 84.84, Iter: 3060, Loss: 0.209:  61%|██████    | 3059/5000 [03:42<02:28, 13.05it/s]"
     ]
    },
    {
     "output_type": "stream",
     "name": "stdout",
     "text": [
      "\n",
      "--- Saving checkpoint at iteration 3060 ---\n"
     ]
    },
    {
     "output_type": "stream",
     "name": "stderr",
     "text": [
      "Epoch: 85.39, Iter: 3080, Loss: 0.207:  62%|██████▏   | 3081/5000 [03:44<02:51, 11.19it/s]"
     ]
    },
    {
     "output_type": "stream",
     "name": "stdout",
     "text": [
      "\n",
      "--- Saving checkpoint at iteration 3080 ---\n"
     ]
    },
    {
     "output_type": "stream",
     "name": "stderr",
     "text": [
      "Epoch: 85.95, Iter: 3100, Loss: 0.208:  62%|██████▏   | 3101/5000 [03:45<03:12,  9.87it/s]"
     ]
    },
    {
     "output_type": "stream",
     "name": "stdout",
     "text": [
      "\n",
      "--- Saving checkpoint at iteration 3100 ---\n"
     ]
    },
    {
     "output_type": "stream",
     "name": "stderr",
     "text": [
      "Epoch: 86.53, Iter: 3121, Loss: 0.207:  62%|██████▏   | 3121/5000 [03:47<02:23, 13.09it/s]"
     ]
    },
    {
     "output_type": "stream",
     "name": "stdout",
     "text": [
      "\n",
      "--- Saving checkpoint at iteration 3120 ---\n"
     ]
    },
    {
     "output_type": "stream",
     "name": "stderr",
     "text": [
      "Epoch: 87.06, Iter: 3140, Loss: 0.203:  63%|██████▎   | 3141/5000 [03:48<02:19, 13.34it/s]"
     ]
    },
    {
     "output_type": "stream",
     "name": "stdout",
     "text": [
      "\n",
      "--- Saving checkpoint at iteration 3140 ---\n"
     ]
    },
    {
     "output_type": "stream",
     "name": "stderr",
     "text": [
      "Epoch: 87.36, Iter: 3151, Loss: 0.203:  63%|██████▎   | 3151/5000 [03:49<02:19, 13.23it/s]"
     ]
    },
    {
     "output_type": "stream",
     "name": "stdout",
     "text": [
      "** [Iter 3149] New best val. loss: 0.211 while train loss: 0.205. Saving model. **\n"
     ]
    },
    {
     "output_type": "stream",
     "name": "stderr",
     "text": [
      "Epoch: 87.64, Iter: 3161, Loss: 0.204:  63%|██████▎   | 3161/5000 [03:50<02:21, 12.99it/s]"
     ]
    },
    {
     "output_type": "stream",
     "name": "stdout",
     "text": [
      "\n",
      "--- Saving checkpoint at iteration 3160 ---\n"
     ]
    },
    {
     "output_type": "stream",
     "name": "stderr",
     "text": [
      "Epoch: 88.19, Iter: 3181, Loss: 0.204:  64%|██████▎   | 3181/5000 [03:51<02:22, 12.77it/s]"
     ]
    },
    {
     "output_type": "stream",
     "name": "stdout",
     "text": [
      "\n",
      "--- Saving checkpoint at iteration 3180 ---\n"
     ]
    },
    {
     "output_type": "stream",
     "name": "stderr",
     "text": [
      "Epoch: 88.75, Iter: 3201, Loss: 0.204:  64%|██████▍   | 3201/5000 [03:52<02:27, 12.19it/s]"
     ]
    },
    {
     "output_type": "stream",
     "name": "stdout",
     "text": [
      "\n",
      "--- Saving checkpoint at iteration 3200 ---\n"
     ]
    },
    {
     "output_type": "stream",
     "name": "stderr",
     "text": [
      "Epoch: 89.27, Iter: 3220, Loss: 0.202:  64%|██████▍   | 3221/5000 [03:54<02:20, 12.63it/s]"
     ]
    },
    {
     "output_type": "stream",
     "name": "stdout",
     "text": [
      "\n",
      "--- Saving checkpoint at iteration 3220 ---\n"
     ]
    },
    {
     "output_type": "stream",
     "name": "stderr",
     "text": [
      "Epoch: 89.86, Iter: 3241, Loss: 0.203:  65%|██████▍   | 3241/5000 [03:55<02:12, 13.25it/s]"
     ]
    },
    {
     "output_type": "stream",
     "name": "stdout",
     "text": [
      "\n",
      "--- Saving checkpoint at iteration 3240 ---\n"
     ]
    },
    {
     "output_type": "stream",
     "name": "stderr",
     "text": [
      "Epoch: 90.38, Iter: 3260, Loss: 0.206:  65%|██████▌   | 3261/5000 [03:57<02:39, 10.92it/s]"
     ]
    },
    {
     "output_type": "stream",
     "name": "stdout",
     "text": [
      "\n",
      "--- Saving checkpoint at iteration 3260 ---\n"
     ]
    },
    {
     "output_type": "stream",
     "name": "stderr",
     "text": [
      "Epoch: 90.94, Iter: 3280, Loss: 0.205:  66%|██████▌   | 3281/5000 [03:58<02:37, 10.93it/s]"
     ]
    },
    {
     "output_type": "stream",
     "name": "stdout",
     "text": [
      "\n",
      "--- Saving checkpoint at iteration 3280 ---\n"
     ]
    },
    {
     "output_type": "stream",
     "name": "stderr",
     "text": [
      "Epoch: 91.49, Iter: 3300, Loss: 0.205:  66%|██████▌   | 3301/5000 [04:00<02:42, 10.49it/s]"
     ]
    },
    {
     "output_type": "stream",
     "name": "stdout",
     "text": [
      "** [Iter 3299] New best val. loss: 0.209 while train loss: 0.206. Saving model. **\n",
      "\n",
      "--- Saving checkpoint at iteration 3300 ---\n"
     ]
    },
    {
     "output_type": "stream",
     "name": "stderr",
     "text": [
      "Epoch: 92.07, Iter: 3321, Loss: 0.206:  66%|██████▋   | 3321/5000 [04:01<02:09, 12.92it/s]"
     ]
    },
    {
     "output_type": "stream",
     "name": "stdout",
     "text": [
      "\n",
      "--- Saving checkpoint at iteration 3320 ---\n"
     ]
    },
    {
     "output_type": "stream",
     "name": "stderr",
     "text": [
      "Epoch: 92.60, Iter: 3340, Loss: 0.203:  67%|██████▋   | 3341/5000 [04:03<02:11, 12.61it/s]"
     ]
    },
    {
     "output_type": "stream",
     "name": "stdout",
     "text": [
      "\n",
      "--- Saving checkpoint at iteration 3340 ---\n"
     ]
    },
    {
     "output_type": "stream",
     "name": "stderr",
     "text": [
      "Epoch: 92.90, Iter: 3351, Loss: 0.203:  67%|██████▋   | 3351/5000 [04:04<02:13, 12.38it/s]"
     ]
    },
    {
     "output_type": "stream",
     "name": "stdout",
     "text": [
      "** [Iter 3349] New best val. loss: 0.209 while train loss: 0.202. Saving model. **\n"
     ]
    },
    {
     "output_type": "stream",
     "name": "stderr",
     "text": [
      "Epoch: 93.18, Iter: 3361, Loss: 0.202:  67%|██████▋   | 3361/5000 [04:04<02:11, 12.48it/s]"
     ]
    },
    {
     "output_type": "stream",
     "name": "stdout",
     "text": [
      "\n",
      "--- Saving checkpoint at iteration 3360 ---\n"
     ]
    },
    {
     "output_type": "stream",
     "name": "stderr",
     "text": [
      "Epoch: 93.71, Iter: 3380, Loss: 0.202:  68%|██████▊   | 3381/5000 [04:06<02:07, 12.66it/s]"
     ]
    },
    {
     "output_type": "stream",
     "name": "stdout",
     "text": [
      "\n",
      "--- Saving checkpoint at iteration 3380 ---\n"
     ]
    },
    {
     "output_type": "stream",
     "name": "stderr",
     "text": [
      "Epoch: 94.26, Iter: 3400, Loss: 0.206:  68%|██████▊   | 3401/5000 [04:07<02:14, 11.90it/s]"
     ]
    },
    {
     "output_type": "stream",
     "name": "stdout",
     "text": [
      "\n",
      "--- Saving checkpoint at iteration 3400 ---\n"
     ]
    },
    {
     "output_type": "stream",
     "name": "stderr",
     "text": [
      "Epoch: 94.84, Iter: 3421, Loss: 0.201:  68%|██████▊   | 3421/5000 [04:09<02:03, 12.79it/s]"
     ]
    },
    {
     "output_type": "stream",
     "name": "stdout",
     "text": [
      "\n",
      "--- Saving checkpoint at iteration 3420 ---\n"
     ]
    },
    {
     "output_type": "stream",
     "name": "stderr",
     "text": [
      "Epoch: 95.34, Iter: 3439, Loss: 0.203:  69%|██████▉   | 3439/5000 [04:10<01:52, 13.81it/s]"
     ]
    },
    {
     "output_type": "stream",
     "name": "stdout",
     "text": [
      "\n",
      "--- Saving checkpoint at iteration 3440 ---\n"
     ]
    },
    {
     "output_type": "stream",
     "name": "stderr",
     "text": [
      "Epoch: 95.68, Iter: 3451, Loss: 0.201:  69%|██████▉   | 3451/5000 [04:11<02:39,  9.73it/s]"
     ]
    },
    {
     "output_type": "stream",
     "name": "stdout",
     "text": [
      "** [Iter 3449] New best val. loss: 0.207 while train loss: 0.203. Saving model. **\n"
     ]
    },
    {
     "output_type": "stream",
     "name": "stderr",
     "text": [
      "Epoch: 95.93, Iter: 3460, Loss: 0.205:  69%|██████▉   | 3461/5000 [04:12<02:26, 10.54it/s]"
     ]
    },
    {
     "output_type": "stream",
     "name": "stdout",
     "text": [
      "\n",
      "--- Saving checkpoint at iteration 3460 ---\n"
     ]
    },
    {
     "output_type": "stream",
     "name": "stderr",
     "text": [
      "Epoch: 96.45, Iter: 3479, Loss: 0.205:  70%|██████▉   | 3479/5000 [04:13<01:56, 13.02it/s]"
     ]
    },
    {
     "output_type": "stream",
     "name": "stdout",
     "text": [
      "\n",
      "--- Saving checkpoint at iteration 3480 ---\n"
     ]
    },
    {
     "output_type": "stream",
     "name": "stderr",
     "text": [
      "Epoch: 97.06, Iter: 3501, Loss: 0.206:  70%|███████   | 3501/5000 [04:15<02:03, 12.18it/s]"
     ]
    },
    {
     "output_type": "stream",
     "name": "stdout",
     "text": [
      "\n",
      "--- Saving checkpoint at iteration 3500 ---\n"
     ]
    },
    {
     "output_type": "stream",
     "name": "stderr",
     "text": [
      "Epoch: 97.59, Iter: 3520, Loss: 0.200:  70%|███████   | 3521/5000 [04:17<02:00, 12.28it/s]"
     ]
    },
    {
     "output_type": "stream",
     "name": "stdout",
     "text": [
      "\n",
      "--- Saving checkpoint at iteration 3520 ---\n"
     ]
    },
    {
     "output_type": "stream",
     "name": "stderr",
     "text": [
      "Epoch: 98.14, Iter: 3540, Loss: 0.201:  71%|███████   | 3541/5000 [04:18<01:53, 12.82it/s]"
     ]
    },
    {
     "output_type": "stream",
     "name": "stdout",
     "text": [
      "\n",
      "--- Saving checkpoint at iteration 3540 ---\n"
     ]
    },
    {
     "output_type": "stream",
     "name": "stderr",
     "text": [
      "Epoch: 98.73, Iter: 3561, Loss: 0.201:  71%|███████   | 3561/5000 [04:19<01:52, 12.83it/s]"
     ]
    },
    {
     "output_type": "stream",
     "name": "stdout",
     "text": [
      "\n",
      "--- Saving checkpoint at iteration 3560 ---\n"
     ]
    },
    {
     "output_type": "stream",
     "name": "stderr",
     "text": [
      "Epoch: 99.28, Iter: 3581, Loss: 0.201:  72%|███████▏  | 3581/5000 [04:21<01:47, 13.22it/s]"
     ]
    },
    {
     "output_type": "stream",
     "name": "stdout",
     "text": [
      "\n",
      "--- Saving checkpoint at iteration 3580 ---\n"
     ]
    },
    {
     "output_type": "stream",
     "name": "stderr",
     "text": [
      "Epoch: 99.81, Iter: 3600, Loss: 0.202:  72%|███████▏  | 3601/5000 [04:22<02:03, 11.37it/s]"
     ]
    },
    {
     "output_type": "stream",
     "name": "stdout",
     "text": [
      "** [Iter 3599] New best val. loss: 0.207 while train loss: 0.198. Saving model. **\n",
      "\n",
      "--- Saving checkpoint at iteration 3600 ---\n"
     ]
    },
    {
     "output_type": "stream",
     "name": "stderr",
     "text": [
      "Epoch: 100.36, Iter: 3620, Loss: 0.203:  72%|███████▏  | 3621/5000 [04:24<01:53, 12.11it/s]"
     ]
    },
    {
     "output_type": "stream",
     "name": "stdout",
     "text": [
      "\n",
      "--- Saving checkpoint at iteration 3620 ---\n"
     ]
    },
    {
     "output_type": "stream",
     "name": "stderr",
     "text": [
      "Epoch: 100.91, Iter: 3640, Loss: 0.202:  73%|███████▎  | 3641/5000 [04:25<02:14, 10.09it/s]"
     ]
    },
    {
     "output_type": "stream",
     "name": "stdout",
     "text": [
      "\n",
      "--- Saving checkpoint at iteration 3640 ---\n"
     ]
    },
    {
     "output_type": "stream",
     "name": "stderr",
     "text": [
      "Epoch: 101.19, Iter: 3650, Loss: 0.201:  73%|███████▎  | 3651/5000 [04:26<02:13, 10.11it/s]"
     ]
    },
    {
     "output_type": "stream",
     "name": "stdout",
     "text": [
      "** [Iter 3649] New best val. loss: 0.205 while train loss: 0.200. Saving model. **\n"
     ]
    },
    {
     "output_type": "stream",
     "name": "stderr",
     "text": [
      "Epoch: 101.44, Iter: 3659, Loss: 0.205:  73%|███████▎  | 3659/5000 [04:27<01:52, 11.97it/s]"
     ]
    },
    {
     "output_type": "stream",
     "name": "stdout",
     "text": [
      "\n",
      "--- Saving checkpoint at iteration 3660 ---\n"
     ]
    },
    {
     "output_type": "stream",
     "name": "stderr",
     "text": [
      "Epoch: 102.02, Iter: 3680, Loss: 0.197:  74%|███████▎  | 3681/5000 [04:29<01:46, 12.43it/s]"
     ]
    },
    {
     "output_type": "stream",
     "name": "stdout",
     "text": [
      "\n",
      "--- Saving checkpoint at iteration 3680 ---\n"
     ]
    },
    {
     "output_type": "stream",
     "name": "stderr",
     "text": [
      "Epoch: 102.58, Iter: 3700, Loss: 0.201:  74%|███████▍  | 3701/5000 [04:30<01:53, 11.49it/s]"
     ]
    },
    {
     "output_type": "stream",
     "name": "stdout",
     "text": [
      "\n",
      "--- Saving checkpoint at iteration 3700 ---\n"
     ]
    },
    {
     "output_type": "stream",
     "name": "stderr",
     "text": [
      "Epoch: 103.16, Iter: 3721, Loss: 0.200:  74%|███████▍  | 3721/5000 [04:32<01:41, 12.55it/s]"
     ]
    },
    {
     "output_type": "stream",
     "name": "stdout",
     "text": [
      "\n",
      "--- Saving checkpoint at iteration 3720 ---\n"
     ]
    },
    {
     "output_type": "stream",
     "name": "stderr",
     "text": [
      "Epoch: 103.69, Iter: 3740, Loss: 0.199:  75%|███████▍  | 3741/5000 [04:33<01:37, 12.90it/s]"
     ]
    },
    {
     "output_type": "stream",
     "name": "stdout",
     "text": [
      "\n",
      "--- Saving checkpoint at iteration 3740 ---\n"
     ]
    },
    {
     "output_type": "stream",
     "name": "stderr",
     "text": [
      "Epoch: 103.99, Iter: 3751, Loss: 0.199:  75%|███████▌  | 3751/5000 [04:34<01:42, 12.16it/s]"
     ]
    },
    {
     "output_type": "stream",
     "name": "stdout",
     "text": [
      "** [Iter 3749] New best val. loss: 0.205 while train loss: 0.197. Saving model. **\n"
     ]
    },
    {
     "output_type": "stream",
     "name": "stderr",
     "text": [
      "Epoch: 104.27, Iter: 3761, Loss: 0.194:  75%|███████▌  | 3761/5000 [04:35<01:35, 12.96it/s]"
     ]
    },
    {
     "output_type": "stream",
     "name": "stdout",
     "text": [
      "\n",
      "--- Saving checkpoint at iteration 3760 ---\n"
     ]
    },
    {
     "output_type": "stream",
     "name": "stderr",
     "text": [
      "Epoch: 104.82, Iter: 3781, Loss: 0.201:  76%|███████▌  | 3781/5000 [04:36<01:32, 13.21it/s]"
     ]
    },
    {
     "output_type": "stream",
     "name": "stdout",
     "text": [
      "\n",
      "--- Saving checkpoint at iteration 3780 ---\n"
     ]
    },
    {
     "output_type": "stream",
     "name": "stderr",
     "text": [
      "Epoch: 105.35, Iter: 3800, Loss: 0.197:  76%|███████▌  | 3801/5000 [04:37<01:36, 12.38it/s]"
     ]
    },
    {
     "output_type": "stream",
     "name": "stdout",
     "text": [
      "\n",
      "--- Saving checkpoint at iteration 3800 ---\n"
     ]
    },
    {
     "output_type": "stream",
     "name": "stderr",
     "text": [
      "Epoch: 105.90, Iter: 3820, Loss: 0.195:  76%|███████▋  | 3821/5000 [04:39<01:56, 10.13it/s]"
     ]
    },
    {
     "output_type": "stream",
     "name": "stdout",
     "text": [
      "\n",
      "--- Saving checkpoint at iteration 3820 ---\n"
     ]
    },
    {
     "output_type": "stream",
     "name": "stderr",
     "text": [
      "Epoch: 106.46, Iter: 3840, Loss: 0.200:  77%|███████▋  | 3841/5000 [04:41<01:54, 10.10it/s]"
     ]
    },
    {
     "output_type": "stream",
     "name": "stdout",
     "text": [
      "\n",
      "--- Saving checkpoint at iteration 3840 ---\n"
     ]
    },
    {
     "output_type": "stream",
     "name": "stderr",
     "text": [
      "Epoch: 106.74, Iter: 3850, Loss: 0.196:  77%|███████▋  | 3851/5000 [04:42<01:56,  9.83it/s]"
     ]
    },
    {
     "output_type": "stream",
     "name": "stdout",
     "text": [
      "** [Iter 3849] New best val. loss: 0.204 while train loss: 0.198. Saving model. **\n"
     ]
    },
    {
     "output_type": "stream",
     "name": "stderr",
     "text": [
      "Epoch: 107.01, Iter: 3860, Loss: 0.196:  77%|███████▋  | 3861/5000 [04:43<01:38, 11.54it/s]"
     ]
    },
    {
     "output_type": "stream",
     "name": "stdout",
     "text": [
      "\n",
      "--- Saving checkpoint at iteration 3860 ---\n"
     ]
    },
    {
     "output_type": "stream",
     "name": "stderr",
     "text": [
      "Epoch: 107.57, Iter: 3880, Loss: 0.197:  78%|███████▊  | 3881/5000 [04:44<01:33, 11.91it/s]"
     ]
    },
    {
     "output_type": "stream",
     "name": "stdout",
     "text": [
      "\n",
      "--- Saving checkpoint at iteration 3880 ---\n"
     ]
    },
    {
     "output_type": "stream",
     "name": "stderr",
     "text": [
      "Epoch: 108.12, Iter: 3900, Loss: 0.198:  78%|███████▊  | 3901/5000 [04:46<01:40, 10.89it/s]"
     ]
    },
    {
     "output_type": "stream",
     "name": "stdout",
     "text": [
      "\n",
      "--- Saving checkpoint at iteration 3900 ---\n"
     ]
    },
    {
     "output_type": "stream",
     "name": "stderr",
     "text": [
      "Epoch: 108.68, Iter: 3920, Loss: 0.194:  78%|███████▊  | 3921/5000 [04:47<01:28, 12.19it/s]"
     ]
    },
    {
     "output_type": "stream",
     "name": "stdout",
     "text": [
      "\n",
      "--- Saving checkpoint at iteration 3920 ---\n"
     ]
    },
    {
     "output_type": "stream",
     "name": "stderr",
     "text": [
      "Epoch: 109.23, Iter: 3940, Loss: 0.196:  79%|███████▉  | 3941/5000 [04:49<01:24, 12.49it/s]"
     ]
    },
    {
     "output_type": "stream",
     "name": "stdout",
     "text": [
      "\n",
      "--- Saving checkpoint at iteration 3940 ---\n"
     ]
    },
    {
     "output_type": "stream",
     "name": "stderr",
     "text": [
      "Epoch: 109.53, Iter: 3951, Loss: 0.196:  79%|███████▉  | 3951/5000 [04:49<01:25, 12.32it/s]"
     ]
    },
    {
     "output_type": "stream",
     "name": "stdout",
     "text": [
      "** [Iter 3949] New best val. loss: 0.203 while train loss: 0.194. Saving model. **\n"
     ]
    },
    {
     "output_type": "stream",
     "name": "stderr",
     "text": [
      "Epoch: 109.78, Iter: 3960, Loss: 0.198:  79%|███████▉  | 3961/5000 [04:50<01:23, 12.41it/s]"
     ]
    },
    {
     "output_type": "stream",
     "name": "stdout",
     "text": [
      "\n",
      "--- Saving checkpoint at iteration 3960 ---\n"
     ]
    },
    {
     "output_type": "stream",
     "name": "stderr",
     "text": [
      "Epoch: 110.34, Iter: 3980, Loss: 0.196:  80%|███████▉  | 3981/5000 [04:52<01:24, 12.02it/s]"
     ]
    },
    {
     "output_type": "stream",
     "name": "stdout",
     "text": [
      "\n",
      "--- Saving checkpoint at iteration 3980 ---\n"
     ]
    },
    {
     "output_type": "stream",
     "name": "stderr",
     "text": [
      "Epoch: 110.89, Iter: 4000, Loss: 0.198:  80%|████████  | 4001/5000 [04:53<01:36, 10.38it/s]"
     ]
    },
    {
     "output_type": "stream",
     "name": "stdout",
     "text": [
      "\n",
      "--- Saving checkpoint at iteration 4000 ---\n"
     ]
    },
    {
     "output_type": "stream",
     "name": "stderr",
     "text": [
      "Epoch: 111.45, Iter: 4020, Loss: 0.200:  80%|████████  | 4021/5000 [04:55<01:34, 10.36it/s]"
     ]
    },
    {
     "output_type": "stream",
     "name": "stdout",
     "text": [
      "\n",
      "--- Saving checkpoint at iteration 4020 ---\n"
     ]
    },
    {
     "output_type": "stream",
     "name": "stderr",
     "text": [
      "Epoch: 112.00, Iter: 4040, Loss: 0.197:  81%|████████  | 4041/5000 [04:57<01:19, 12.09it/s]"
     ]
    },
    {
     "output_type": "stream",
     "name": "stdout",
     "text": [
      "\n",
      "--- Saving checkpoint at iteration 4040 ---\n"
     ]
    },
    {
     "output_type": "stream",
     "name": "stderr",
     "text": [
      "Epoch: 112.56, Iter: 4060, Loss: 0.199:  81%|████████  | 4061/5000 [04:58<01:13, 12.75it/s]"
     ]
    },
    {
     "output_type": "stream",
     "name": "stdout",
     "text": [
      "\n",
      "--- Saving checkpoint at iteration 4060 ---\n"
     ]
    },
    {
     "output_type": "stream",
     "name": "stderr",
     "text": [
      "Epoch: 113.14, Iter: 4081, Loss: 0.196:  82%|████████▏ | 4081/5000 [04:59<01:08, 13.35it/s]"
     ]
    },
    {
     "output_type": "stream",
     "name": "stdout",
     "text": [
      "\n",
      "--- Saving checkpoint at iteration 4080 ---\n"
     ]
    },
    {
     "output_type": "stream",
     "name": "stderr",
     "text": [
      "Epoch: 113.66, Iter: 4100, Loss: 0.194:  82%|████████▏ | 4101/5000 [05:01<01:20, 11.20it/s]"
     ]
    },
    {
     "output_type": "stream",
     "name": "stdout",
     "text": [
      "** [Iter 4099] New best val. loss: 0.200 while train loss: 0.193. Saving model. **\n",
      "\n",
      "--- Saving checkpoint at iteration 4100 ---\n"
     ]
    },
    {
     "output_type": "stream",
     "name": "stderr",
     "text": [
      "Epoch: 114.22, Iter: 4120, Loss: 0.193:  82%|████████▏ | 4121/5000 [05:02<01:08, 12.89it/s]"
     ]
    },
    {
     "output_type": "stream",
     "name": "stdout",
     "text": [
      "\n",
      "--- Saving checkpoint at iteration 4120 ---\n"
     ]
    },
    {
     "output_type": "stream",
     "name": "stderr",
     "text": [
      "Epoch: 114.77, Iter: 4140, Loss: 0.196:  83%|████████▎ | 4141/5000 [05:04<01:04, 13.26it/s]"
     ]
    },
    {
     "output_type": "stream",
     "name": "stdout",
     "text": [
      "\n",
      "--- Saving checkpoint at iteration 4140 ---\n"
     ]
    },
    {
     "output_type": "stream",
     "name": "stderr",
     "text": [
      "Epoch: 115.33, Iter: 4160, Loss: 0.199:  83%|████████▎ | 4161/5000 [05:05<01:08, 12.31it/s]"
     ]
    },
    {
     "output_type": "stream",
     "name": "stdout",
     "text": [
      "\n",
      "--- Saving checkpoint at iteration 4160 ---\n"
     ]
    },
    {
     "output_type": "stream",
     "name": "stderr",
     "text": [
      "Epoch: 115.88, Iter: 4180, Loss: 0.192:  84%|████████▎ | 4181/5000 [05:07<01:15, 10.82it/s]"
     ]
    },
    {
     "output_type": "stream",
     "name": "stdout",
     "text": [
      "\n",
      "--- Saving checkpoint at iteration 4180 ---\n"
     ]
    },
    {
     "output_type": "stream",
     "name": "stderr",
     "text": [
      "Epoch: 116.4080, Iter: 4199, Loss: 0.197, Val Loss: 0.198:  84%|████████▍ | 4199/5000 [05:08<01:05, 12.16it/s]"
     ]
    },
    {
     "output_type": "stream",
     "name": "stdout",
     "text": [
      "** [Iter 4199] New best val. loss: 0.198 while train loss: 0.197. Saving model. **\n",
      "\n",
      "--- Saving checkpoint at iteration 4200 ---\n"
     ]
    },
    {
     "output_type": "stream",
     "name": "stderr",
     "text": [
      "Epoch: 116.99, Iter: 4220, Loss: 0.194:  84%|████████▍ | 4221/5000 [05:10<01:13, 10.56it/s]"
     ]
    },
    {
     "output_type": "stream",
     "name": "stdout",
     "text": [
      "\n",
      "--- Saving checkpoint at iteration 4220 ---\n"
     ]
    },
    {
     "output_type": "stream",
     "name": "stderr",
     "text": [
      "Epoch: 117.57, Iter: 4241, Loss: 0.193:  85%|████████▍ | 4241/5000 [05:12<00:57, 13.18it/s]"
     ]
    },
    {
     "output_type": "stream",
     "name": "stdout",
     "text": [
      "\n",
      "--- Saving checkpoint at iteration 4240 ---\n"
     ]
    },
    {
     "output_type": "stream",
     "name": "stderr",
     "text": [
      "Epoch: 118.10, Iter: 4260, Loss: 0.194:  85%|████████▌ | 4261/5000 [05:13<00:59, 12.44it/s]"
     ]
    },
    {
     "output_type": "stream",
     "name": "stdout",
     "text": [
      "\n",
      "--- Saving checkpoint at iteration 4260 ---\n"
     ]
    },
    {
     "output_type": "stream",
     "name": "stderr",
     "text": [
      "Epoch: 118.65, Iter: 4280, Loss: 0.192:  86%|████████▌ | 4281/5000 [05:14<00:57, 12.52it/s]"
     ]
    },
    {
     "output_type": "stream",
     "name": "stdout",
     "text": [
      "\n",
      "--- Saving checkpoint at iteration 4280 ---\n"
     ]
    },
    {
     "output_type": "stream",
     "name": "stderr",
     "text": [
      "Epoch: 119.24, Iter: 4301, Loss: 0.194:  86%|████████▌ | 4301/5000 [05:16<00:58, 11.86it/s]"
     ]
    },
    {
     "output_type": "stream",
     "name": "stdout",
     "text": [
      "\n",
      "--- Saving checkpoint at iteration 4300 ---\n"
     ]
    },
    {
     "output_type": "stream",
     "name": "stderr",
     "text": [
      "Epoch: 119.76, Iter: 4320, Loss: 0.195:  86%|████████▋ | 4321/5000 [05:17<00:54, 12.41it/s]"
     ]
    },
    {
     "output_type": "stream",
     "name": "stdout",
     "text": [
      "\n",
      "--- Saving checkpoint at iteration 4320 ---\n"
     ]
    },
    {
     "output_type": "stream",
     "name": "stderr",
     "text": [
      "Epoch: 120.32, Iter: 4340, Loss: 0.193:  87%|████████▋ | 4341/5000 [05:19<00:52, 12.55it/s]"
     ]
    },
    {
     "output_type": "stream",
     "name": "stdout",
     "text": [
      "\n",
      "--- Saving checkpoint at iteration 4340 ---\n"
     ]
    },
    {
     "output_type": "stream",
     "name": "stderr",
     "text": [
      "Epoch: 120.62, Iter: 4351, Loss: 0.196:  87%|████████▋ | 4351/5000 [05:20<00:54, 11.94it/s]"
     ]
    },
    {
     "output_type": "stream",
     "name": "stdout",
     "text": [
      "** [Iter 4349] New best val. loss: 0.196 while train loss: 0.192. Saving model. **\n"
     ]
    },
    {
     "output_type": "stream",
     "name": "stderr",
     "text": [
      "Epoch: 120.90, Iter: 4361, Loss: 0.189:  87%|████████▋ | 4361/5000 [05:20<00:50, 12.61it/s]"
     ]
    },
    {
     "output_type": "stream",
     "name": "stdout",
     "text": [
      "\n",
      "--- Saving checkpoint at iteration 4360 ---\n"
     ]
    },
    {
     "output_type": "stream",
     "name": "stderr",
     "text": [
      "Epoch: 121.42, Iter: 4380, Loss: 0.192:  88%|████████▊ | 4381/5000 [05:22<00:55, 11.20it/s]"
     ]
    },
    {
     "output_type": "stream",
     "name": "stdout",
     "text": [
      "\n",
      "--- Saving checkpoint at iteration 4380 ---\n"
     ]
    },
    {
     "output_type": "stream",
     "name": "stderr",
     "text": [
      "Epoch: 121.98, Iter: 4400, Loss: 0.193:  88%|████████▊ | 4401/5000 [05:23<00:57, 10.41it/s]"
     ]
    },
    {
     "output_type": "stream",
     "name": "stdout",
     "text": [
      "\n",
      "--- Saving checkpoint at iteration 4400 ---\n"
     ]
    },
    {
     "output_type": "stream",
     "name": "stderr",
     "text": [
      "Epoch: 122.53, Iter: 4420, Loss: 0.194:  88%|████████▊ | 4421/5000 [05:25<00:49, 11.72it/s]"
     ]
    },
    {
     "output_type": "stream",
     "name": "stdout",
     "text": [
      "\n",
      "--- Saving checkpoint at iteration 4420 ---\n"
     ]
    },
    {
     "output_type": "stream",
     "name": "stderr",
     "text": [
      "Epoch: 123.12, Iter: 4441, Loss: 0.192:  89%|████████▉ | 4441/5000 [05:26<00:42, 13.29it/s]"
     ]
    },
    {
     "output_type": "stream",
     "name": "stdout",
     "text": [
      "\n",
      "--- Saving checkpoint at iteration 4440 ---\n"
     ]
    },
    {
     "output_type": "stream",
     "name": "stderr",
     "text": [
      "Epoch: 123.67, Iter: 4461, Loss: 0.195:  89%|████████▉ | 4461/5000 [05:28<00:41, 13.05it/s]"
     ]
    },
    {
     "output_type": "stream",
     "name": "stdout",
     "text": [
      "\n",
      "--- Saving checkpoint at iteration 4460 ---\n"
     ]
    },
    {
     "output_type": "stream",
     "name": "stderr",
     "text": [
      "Epoch: 124.22, Iter: 4481, Loss: 0.191:  90%|████████▉ | 4481/5000 [05:29<00:40, 12.97it/s]"
     ]
    },
    {
     "output_type": "stream",
     "name": "stdout",
     "text": [
      "\n",
      "--- Saving checkpoint at iteration 4480 ---\n"
     ]
    },
    {
     "output_type": "stream",
     "name": "stderr",
     "text": [
      "Epoch: 124.75, Iter: 4500, Loss: 0.194:  90%|█████████ | 4501/5000 [05:31<00:40, 12.30it/s]"
     ]
    },
    {
     "output_type": "stream",
     "name": "stdout",
     "text": [
      "\n",
      "--- Saving checkpoint at iteration 4500 ---\n"
     ]
    },
    {
     "output_type": "stream",
     "name": "stderr",
     "text": [
      "Epoch: 125.30, Iter: 4520, Loss: 0.190:  90%|█████████ | 4521/5000 [05:32<00:40, 11.93it/s]"
     ]
    },
    {
     "output_type": "stream",
     "name": "stdout",
     "text": [
      "\n",
      "--- Saving checkpoint at iteration 4520 ---\n"
     ]
    },
    {
     "output_type": "stream",
     "name": "stderr",
     "text": [
      "Epoch: 125.86, Iter: 4540, Loss: 0.193:  91%|█████████ | 4541/5000 [05:34<00:37, 12.37it/s]"
     ]
    },
    {
     "output_type": "stream",
     "name": "stdout",
     "text": [
      "\n",
      "--- Saving checkpoint at iteration 4540 ---\n"
     ]
    },
    {
     "output_type": "stream",
     "name": "stderr",
     "text": [
      "Epoch: 126.41, Iter: 4560, Loss: 0.191:  91%|█████████ | 4561/5000 [05:35<00:40, 10.83it/s]"
     ]
    },
    {
     "output_type": "stream",
     "name": "stdout",
     "text": [
      "\n",
      "--- Saving checkpoint at iteration 4560 ---\n"
     ]
    },
    {
     "output_type": "stream",
     "name": "stderr",
     "text": [
      "Epoch: 126.97, Iter: 4580, Loss: 0.189:  92%|█████████▏| 4581/5000 [05:37<00:41, 10.08it/s]"
     ]
    },
    {
     "output_type": "stream",
     "name": "stdout",
     "text": [
      "\n",
      "--- Saving checkpoint at iteration 4580 ---\n"
     ]
    },
    {
     "output_type": "stream",
     "name": "stderr",
     "text": [
      "Epoch: 127.52, Iter: 4600, Loss: 0.190:  92%|█████████▏| 4601/5000 [05:39<00:42,  9.29it/s]"
     ]
    },
    {
     "output_type": "stream",
     "name": "stdout",
     "text": [
      "\n",
      "--- Saving checkpoint at iteration 4600 ---\n"
     ]
    },
    {
     "output_type": "stream",
     "name": "stderr",
     "text": [
      "Epoch: 128.08, Iter: 4620, Loss: 0.194:  92%|█████████▏| 4621/5000 [05:40<00:31, 12.12it/s]"
     ]
    },
    {
     "output_type": "stream",
     "name": "stdout",
     "text": [
      "\n",
      "--- Saving checkpoint at iteration 4620 ---\n"
     ]
    },
    {
     "output_type": "stream",
     "name": "stderr",
     "text": [
      "Epoch: 128.63, Iter: 4640, Loss: 0.192:  93%|█████████▎| 4641/5000 [05:42<00:29, 12.10it/s]"
     ]
    },
    {
     "output_type": "stream",
     "name": "stdout",
     "text": [
      "\n",
      "--- Saving checkpoint at iteration 4640 ---\n"
     ]
    },
    {
     "output_type": "stream",
     "name": "stderr",
     "text": [
      "Epoch: 129.21, Iter: 4661, Loss: 0.193:  93%|█████████▎| 4661/5000 [05:43<00:27, 12.13it/s]"
     ]
    },
    {
     "output_type": "stream",
     "name": "stdout",
     "text": [
      "\n",
      "--- Saving checkpoint at iteration 4660 ---\n"
     ]
    },
    {
     "output_type": "stream",
     "name": "stderr",
     "text": [
      "Epoch: 129.74, Iter: 4680, Loss: 0.189:  94%|█████████▎| 4681/5000 [05:45<00:25, 12.34it/s]"
     ]
    },
    {
     "output_type": "stream",
     "name": "stdout",
     "text": [
      "\n",
      "--- Saving checkpoint at iteration 4680 ---\n"
     ]
    },
    {
     "output_type": "stream",
     "name": "stderr",
     "text": [
      "Epoch: 130.29, Iter: 4700, Loss: 0.189:  94%|█████████▍| 4701/5000 [05:46<00:26, 11.18it/s]"
     ]
    },
    {
     "output_type": "stream",
     "name": "stdout",
     "text": [
      "\n",
      "--- Saving checkpoint at iteration 4700 ---\n"
     ]
    },
    {
     "output_type": "stream",
     "name": "stderr",
     "text": [
      "Epoch: 130.85, Iter: 4720, Loss: 0.194:  94%|█████████▍| 4721/5000 [05:48<00:22, 12.17it/s]"
     ]
    },
    {
     "output_type": "stream",
     "name": "stdout",
     "text": [
      "\n",
      "--- Saving checkpoint at iteration 4720 ---\n"
     ]
    },
    {
     "output_type": "stream",
     "name": "stderr",
     "text": [
      "Epoch: 131.40, Iter: 4740, Loss: 0.189:  95%|█████████▍| 4741/5000 [05:50<00:24, 10.62it/s]"
     ]
    },
    {
     "output_type": "stream",
     "name": "stdout",
     "text": [
      "\n",
      "--- Saving checkpoint at iteration 4740 ---\n"
     ]
    },
    {
     "output_type": "stream",
     "name": "stderr",
     "text": [
      "Epoch: 131.96, Iter: 4760, Loss: 0.189:  95%|█████████▌| 4759/5000 [05:51<00:19, 12.29it/s]"
     ]
    },
    {
     "output_type": "stream",
     "name": "stdout",
     "text": [
      "\n",
      "--- Saving checkpoint at iteration 4760 ---\n"
     ]
    },
    {
     "output_type": "stream",
     "name": "stderr",
     "text": [
      "Epoch: 132.51, Iter: 4780, Loss: 0.191:  96%|█████████▌| 4781/5000 [05:53<00:22,  9.85it/s]"
     ]
    },
    {
     "output_type": "stream",
     "name": "stdout",
     "text": [
      "\n",
      "--- Saving checkpoint at iteration 4780 ---\n"
     ]
    },
    {
     "output_type": "stream",
     "name": "stderr",
     "text": [
      "Epoch: 133.07, Iter: 4800, Loss: 0.189:  96%|█████████▌| 4801/5000 [05:55<00:18, 10.68it/s]"
     ]
    },
    {
     "output_type": "stream",
     "name": "stdout",
     "text": [
      "** [Iter 4799] New best val. loss: 0.196 while train loss: 0.187. Saving model. **\n",
      "\n",
      "--- Saving checkpoint at iteration 4800 ---\n"
     ]
    },
    {
     "output_type": "stream",
     "name": "stderr",
     "text": [
      "Epoch: 133.65, Iter: 4821, Loss: 0.189:  96%|█████████▋| 4821/5000 [05:56<00:14, 12.66it/s]"
     ]
    },
    {
     "output_type": "stream",
     "name": "stdout",
     "text": [
      "\n",
      "--- Saving checkpoint at iteration 4820 ---\n"
     ]
    },
    {
     "output_type": "stream",
     "name": "stderr",
     "text": [
      "Epoch: 134.17, Iter: 4840, Loss: 0.193:  97%|█████████▋| 4841/5000 [05:58<00:12, 12.84it/s]"
     ]
    },
    {
     "output_type": "stream",
     "name": "stdout",
     "text": [
      "\n",
      "--- Saving checkpoint at iteration 4840 ---\n"
     ]
    },
    {
     "output_type": "stream",
     "name": "stderr",
     "text": [
      "Epoch: 134.76, Iter: 4861, Loss: 0.189:  97%|█████████▋| 4861/5000 [05:59<00:10, 13.13it/s]"
     ]
    },
    {
     "output_type": "stream",
     "name": "stdout",
     "text": [
      "\n",
      "--- Saving checkpoint at iteration 4860 ---\n"
     ]
    },
    {
     "output_type": "stream",
     "name": "stderr",
     "text": [
      "Epoch: 135.28, Iter: 4880, Loss: 0.189:  98%|█████████▊| 4881/5000 [06:00<00:09, 13.01it/s]"
     ]
    },
    {
     "output_type": "stream",
     "name": "stdout",
     "text": [
      "\n",
      "--- Saving checkpoint at iteration 4880 ---\n"
     ]
    },
    {
     "output_type": "stream",
     "name": "stderr",
     "text": [
      "Epoch: 135.84, Iter: 4900, Loss: 0.189:  98%|█████████▊| 4901/5000 [06:02<00:08, 11.02it/s]"
     ]
    },
    {
     "output_type": "stream",
     "name": "stdout",
     "text": [
      "** [Iter 4899] New best val. loss: 0.195 while train loss: 0.188. Saving model. **\n",
      "\n",
      "--- Saving checkpoint at iteration 4900 ---\n"
     ]
    },
    {
     "output_type": "stream",
     "name": "stderr",
     "text": [
      "Epoch: 136.39, Iter: 4920, Loss: 0.190:  98%|█████████▊| 4921/5000 [06:03<00:07, 10.61it/s]"
     ]
    },
    {
     "output_type": "stream",
     "name": "stdout",
     "text": [
      "\n",
      "--- Saving checkpoint at iteration 4920 ---\n"
     ]
    },
    {
     "output_type": "stream",
     "name": "stderr",
     "text": [
      "Epoch: 136.95, Iter: 4940, Loss: 0.189:  99%|█████████▉| 4941/5000 [06:05<00:06,  9.74it/s]"
     ]
    },
    {
     "output_type": "stream",
     "name": "stdout",
     "text": [
      "\n",
      "--- Saving checkpoint at iteration 4940 ---\n"
     ]
    },
    {
     "output_type": "stream",
     "name": "stderr",
     "text": [
      "Epoch: 137.22, Iter: 4950, Loss: 0.189:  99%|█████████▉| 4951/5000 [06:06<00:05,  9.60it/s]"
     ]
    },
    {
     "output_type": "stream",
     "name": "stdout",
     "text": [
      "** [Iter 4949] New best val. loss: 0.193 while train loss: 0.190. Saving model. **\n"
     ]
    },
    {
     "output_type": "stream",
     "name": "stderr",
     "text": [
      "Epoch: 137.47, Iter: 4959, Loss: 0.188:  99%|█████████▉| 4959/5000 [06:07<00:03, 11.63it/s]"
     ]
    },
    {
     "output_type": "stream",
     "name": "stdout",
     "text": [
      "\n",
      "--- Saving checkpoint at iteration 4960 ---\n"
     ]
    },
    {
     "output_type": "stream",
     "name": "stderr",
     "text": [
      "Epoch: 138.05, Iter: 4980, Loss: 0.188: 100%|█████████▉| 4981/5000 [06:09<00:01, 12.33it/s]"
     ]
    },
    {
     "output_type": "stream",
     "name": "stdout",
     "text": [
      "\n",
      "--- Saving checkpoint at iteration 4980 ---\n"
     ]
    },
    {
     "output_type": "stream",
     "name": "stderr",
     "text": [
      "Epoch: 138.5809, Iter: 4999, Loss: 0.188, Val Loss: 0.198: 100%|██████████| 5000/5000 [06:10<00:00, 13.50it/s]\n"
     ]
    },
    {
     "output_type": "stream",
     "name": "stdout",
     "text": [
      "\n",
      "--- Saving checkpoint at iteration 5000 ---\n",
      "Logging best model to W&B Artifacts...\n"
     ]
    },
    {
     "output_type": "display_data",
     "data": {
      "text/plain": [
       "<IPython.core.display.HTML object>"
      ],
      "text/html": []
     },
     "metadata": {}
    },
    {
     "output_type": "display_data",
     "data": {
      "text/plain": [
       "<IPython.core.display.HTML object>"
      ],
      "text/html": [
       "<br>    <style><br>        .wandb-row {<br>            display: flex;<br>            flex-direction: row;<br>            flex-wrap: wrap;<br>            justify-content: flex-start;<br>            width: 100%;<br>        }<br>        .wandb-col {<br>            display: flex;<br>            flex-direction: column;<br>            flex-basis: 100%;<br>            flex: 1;<br>            padding: 10px;<br>        }<br>    </style><br><div class=\"wandb-row\"><div class=\"wandb-col\"><h3>Run history:</h3><br/><table class=\"wandb\"><tr><td>epoch</td><td>▁▁▁▁▁▂▂▂▂▂▂▂▃▃▃▃▃▃▃▄▄▄▅▅▅▅▅▆▆▆▆▆▇▇▇▇████</td></tr><tr><td>iteration</td><td>▁▁▁▁▁▁▂▂▂▂▃▃▃▃▃▃▄▄▄▄▅▅▅▅▅▅▆▆▆▆▆▆▆▆▆▆▆▆▇█</td></tr><tr><td>train_loss</td><td>█▇▆▆▅▅▅▅▅▅▄▄▄▃▃▃▃▂▂▂▂▂▂▂▂▂▂▂▂▁▁▁▁▁▁▁▁▁▁▁</td></tr><tr><td>val_loss</td><td>█▇▆▆▅▅▄▄▄▄▃▃▃▃▂▂▂▂▂▂▂▂▂▂▂▂▂▁▁▁▁▁▁▁▁▁▁▁▁▁</td></tr></table><br/></div><div class=\"wandb-col\"><h3>Run summary:</h3><br/><table class=\"wandb\"><tr><td>epoch</td><td>138.58093</td></tr><tr><td>iteration</td><td>4999</td></tr><tr><td>train_loss</td><td>0.18753</td></tr><tr><td>val_loss</td><td>0.19798</td></tr></table><br/></div></div>"
      ]
     },
     "metadata": {}
    },
    {
     "output_type": "display_data",
     "data": {
      "text/plain": [
       "<IPython.core.display.HTML object>"
      ],
      "text/html": [
       " View run <strong style=\"color:#cdcd00\">ATFUNet_20250805-161558_iter5000</strong> at: <a href='https://wandb.ai/ege-erdem-king-s-college-london/FM-RIR/runs/12lzsgj9' target=\"_blank\">https://wandb.ai/ege-erdem-king-s-college-london/FM-RIR/runs/12lzsgj9</a><br> View project at: <a href='https://wandb.ai/ege-erdem-king-s-college-london/FM-RIR' target=\"_blank\">https://wandb.ai/ege-erdem-king-s-college-london/FM-RIR</a><br>Synced 5 W&B file(s), 0 media file(s), 2 artifact file(s) and 0 other file(s)"
      ]
     },
     "metadata": {}
    },
    {
     "output_type": "display_data",
     "data": {
      "text/plain": [
       "<IPython.core.display.HTML object>"
      ],
      "text/html": [
       "Find logs at: <code>./wandb/run-20250805_161558-12lzsgj9/logs</code>"
      ]
     },
     "metadata": {}
    },
    {
     "output_type": "stream",
     "name": "stdout",
     "text": [
      "Training complete and wandb run finished.\n"
     ]
    }
   ]
  }
 ]
}
